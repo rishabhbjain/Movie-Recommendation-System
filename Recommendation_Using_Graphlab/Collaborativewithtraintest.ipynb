{
 "cells": [
  {
   "cell_type": "code",
   "execution_count": null,
   "metadata": {
    "collapsed": true
   },
   "outputs": [],
   "source": [
    "import requests\n",
    "import zipfile,io\n",
    "import os\n",
    "import shutil\n",
    "import pandas as pd\n",
    "from pandas import *\n",
    "import graphlab\n",
    "\n",
    "\n",
    "graphlab.product_key.set_product_key('60B1-D685-6EA3-DD15-4246-4BF7-D25C-CA90')\n",
    "\n",
    "\n",
    "movietrain_data = pd.read_csv(\"moviestrain.csv\")\n",
    "movietest_data = pd.read_csv(\"moviestest.csv\")\n",
    "\n",
    "test = pd.read_csv(\"testratings.csv\")\n",
    "train = pd.read_csv(\"trainratings.csv\")\n",
    "\n",
    "test_data = graphlab.SFrame(test)\n",
    "train_data = graphlab.SFrame(train)\n",
    "\n",
    "\n",
    "movietrain_data = graphlab.SFrame(movietrain_data)\n",
    "movietest_data = graphlab.SFrame(movietest_data)"
   ]
  },
  {
   "cell_type": "code",
   "execution_count": 14,
   "metadata": {
    "collapsed": false
   },
   "outputs": [
    {
     "data": {
      "text/html": [
       "<pre>Recsys training: model = popularity</pre>"
      ],
      "text/plain": [
       "Recsys training: model = popularity"
      ]
     },
     "metadata": {},
     "output_type": "display_data"
    },
    {
     "data": {
      "text/html": [
       "<pre>Warning: Ignoring columns timestamp;</pre>"
      ],
      "text/plain": [
       "Warning: Ignoring columns timestamp;"
      ]
     },
     "metadata": {},
     "output_type": "display_data"
    },
    {
     "data": {
      "text/html": [
       "<pre>    To use these columns in scoring predictions, use a model that allows the use of additional features.</pre>"
      ],
      "text/plain": [
       "    To use these columns in scoring predictions, use a model that allows the use of additional features."
      ]
     },
     "metadata": {},
     "output_type": "display_data"
    },
    {
     "data": {
      "text/html": [
       "<pre>Preparing data set.</pre>"
      ],
      "text/plain": [
       "Preparing data set."
      ]
     },
     "metadata": {},
     "output_type": "display_data"
    },
    {
     "data": {
      "text/html": [
       "<pre>    Data has 37898 observations with 665 users and 6734 items.</pre>"
      ],
      "text/plain": [
       "    Data has 37898 observations with 665 users and 6734 items."
      ]
     },
     "metadata": {},
     "output_type": "display_data"
    },
    {
     "data": {
      "text/html": [
       "<pre>    Data prepared in: 0.07664s</pre>"
      ],
      "text/plain": [
       "    Data prepared in: 0.07664s"
      ]
     },
     "metadata": {},
     "output_type": "display_data"
    },
    {
     "data": {
      "text/html": [
       "<pre>37898 observations to process; with 6734 unique items.</pre>"
      ],
      "text/plain": [
       "37898 observations to process; with 6734 unique items."
      ]
     },
     "metadata": {},
     "output_type": "display_data"
    }
   ],
   "source": [
    "popularity_model = graphlab.popularity_recommender.create(train_data, \n",
    "            user_id='userId', item_id='movieId', target='rating')"
   ]
  },
  {
   "cell_type": "code",
   "execution_count": 15,
   "metadata": {
    "collapsed": true
   },
   "outputs": [],
   "source": [
    "popularity_recomm = popularity_model.recommend(users=range(1,6),k=5)"
   ]
  },
  {
   "cell_type": "code",
   "execution_count": 16,
   "metadata": {
    "collapsed": false
   },
   "outputs": [
    {
     "name": "stdout",
     "output_type": "stream",
     "text": [
      "+--------+---------+-------+------+\n",
      "| userId | movieId | score | rank |\n",
      "+--------+---------+-------+------+\n",
      "|   1    |   3873  |  3.0  |  1   |\n",
      "|   1    |   538   |  3.0  |  2   |\n",
      "|   1    |    26   |  3.0  |  3   |\n",
      "|   1    |   3016  |  3.0  |  4   |\n",
      "|   1    |   2659  |  3.0  |  5   |\n",
      "|   2    |   3873  |  3.0  |  1   |\n",
      "|   2    |   538   |  3.0  |  2   |\n",
      "|   2    |    26   |  3.0  |  3   |\n",
      "|   2    |   3016  |  3.0  |  4   |\n",
      "|   2    |   2659  |  3.0  |  5   |\n",
      "|   3    |   3873  |  3.0  |  1   |\n",
      "|   3    |   538   |  3.0  |  2   |\n",
      "|   3    |    26   |  3.0  |  3   |\n",
      "|   3    |   3016  |  3.0  |  4   |\n",
      "|   3    |   2659  |  3.0  |  5   |\n",
      "|   4    |   2038  |  3.0  |  1   |\n",
      "|   4    |   3885  |  3.0  |  2   |\n",
      "|   4    |   3873  |  3.0  |  3   |\n",
      "|   4    |   538   |  3.0  |  4   |\n",
      "|   4    |    26   |  3.0  |  5   |\n",
      "|   5    |   3873  |  3.0  |  1   |\n",
      "|   5    |   538   |  3.0  |  2   |\n",
      "|   5    |    26   |  3.0  |  3   |\n",
      "|   5    |   3016  |  3.0  |  4   |\n",
      "|   5    |   2659  |  3.0  |  5   |\n",
      "+--------+---------+-------+------+\n",
      "[25 rows x 4 columns]\n",
      "\n"
     ]
    }
   ],
   "source": [
    "popularity_recomm.print_rows(num_rows=25)"
   ]
  },
  {
   "cell_type": "code",
   "execution_count": 17,
   "metadata": {
    "collapsed": false
   },
   "outputs": [
    {
     "data": {
      "text/html": [
       "<pre>Recsys training: model = item_similarity</pre>"
      ],
      "text/plain": [
       "Recsys training: model = item_similarity"
      ]
     },
     "metadata": {},
     "output_type": "display_data"
    },
    {
     "data": {
      "text/html": [
       "<pre>Warning: Ignoring columns timestamp;</pre>"
      ],
      "text/plain": [
       "Warning: Ignoring columns timestamp;"
      ]
     },
     "metadata": {},
     "output_type": "display_data"
    },
    {
     "data": {
      "text/html": [
       "<pre>    To use these columns in scoring predictions, use a model that allows the use of additional features.</pre>"
      ],
      "text/plain": [
       "    To use these columns in scoring predictions, use a model that allows the use of additional features."
      ]
     },
     "metadata": {},
     "output_type": "display_data"
    },
    {
     "data": {
      "text/html": [
       "<pre>Preparing data set.</pre>"
      ],
      "text/plain": [
       "Preparing data set."
      ]
     },
     "metadata": {},
     "output_type": "display_data"
    },
    {
     "data": {
      "text/html": [
       "<pre>    Data has 37898 observations with 665 users and 6734 items.</pre>"
      ],
      "text/plain": [
       "    Data has 37898 observations with 665 users and 6734 items."
      ]
     },
     "metadata": {},
     "output_type": "display_data"
    },
    {
     "data": {
      "text/html": [
       "<pre>    Data prepared in: 0.058263s</pre>"
      ],
      "text/plain": [
       "    Data prepared in: 0.058263s"
      ]
     },
     "metadata": {},
     "output_type": "display_data"
    },
    {
     "data": {
      "text/html": [
       "<pre>Training model from provided data.</pre>"
      ],
      "text/plain": [
       "Training model from provided data."
      ]
     },
     "metadata": {},
     "output_type": "display_data"
    },
    {
     "data": {
      "text/html": [
       "<pre>Gathering per-item and per-user statistics.</pre>"
      ],
      "text/plain": [
       "Gathering per-item and per-user statistics."
      ]
     },
     "metadata": {},
     "output_type": "display_data"
    },
    {
     "data": {
      "text/html": [
       "<pre>+--------------------------------+------------+</pre>"
      ],
      "text/plain": [
       "+--------------------------------+------------+"
      ]
     },
     "metadata": {},
     "output_type": "display_data"
    },
    {
     "data": {
      "text/html": [
       "<pre>| Elapsed Time (Item Statistics) | % Complete |</pre>"
      ],
      "text/plain": [
       "| Elapsed Time (Item Statistics) | % Complete |"
      ]
     },
     "metadata": {},
     "output_type": "display_data"
    },
    {
     "data": {
      "text/html": [
       "<pre>+--------------------------------+------------+</pre>"
      ],
      "text/plain": [
       "+--------------------------------+------------+"
      ]
     },
     "metadata": {},
     "output_type": "display_data"
    },
    {
     "data": {
      "text/html": [
       "<pre>| 7.701ms                        | 100        |</pre>"
      ],
      "text/plain": [
       "| 7.701ms                        | 100        |"
      ]
     },
     "metadata": {},
     "output_type": "display_data"
    },
    {
     "data": {
      "text/html": [
       "<pre>+--------------------------------+------------+</pre>"
      ],
      "text/plain": [
       "+--------------------------------+------------+"
      ]
     },
     "metadata": {},
     "output_type": "display_data"
    },
    {
     "data": {
      "text/html": [
       "<pre>Setting up lookup tables.</pre>"
      ],
      "text/plain": [
       "Setting up lookup tables."
      ]
     },
     "metadata": {},
     "output_type": "display_data"
    },
    {
     "data": {
      "text/html": [
       "<pre>Processing data in one pass using dense lookup tables.</pre>"
      ],
      "text/plain": [
       "Processing data in one pass using dense lookup tables."
      ]
     },
     "metadata": {},
     "output_type": "display_data"
    },
    {
     "data": {
      "text/html": [
       "<pre>+-------------------------------------+------------------+-----------------+</pre>"
      ],
      "text/plain": [
       "+-------------------------------------+------------------+-----------------+"
      ]
     },
     "metadata": {},
     "output_type": "display_data"
    },
    {
     "data": {
      "text/html": [
       "<pre>| Elapsed Time (Constructing Lookups) | Total % Complete | Items Processed |</pre>"
      ],
      "text/plain": [
       "| Elapsed Time (Constructing Lookups) | Total % Complete | Items Processed |"
      ]
     },
     "metadata": {},
     "output_type": "display_data"
    },
    {
     "data": {
      "text/html": [
       "<pre>+-------------------------------------+------------------+-----------------+</pre>"
      ],
      "text/plain": [
       "+-------------------------------------+------------------+-----------------+"
      ]
     },
     "metadata": {},
     "output_type": "display_data"
    },
    {
     "data": {
      "text/html": [
       "<pre>| 1.43s                               | 0                | 0               |</pre>"
      ],
      "text/plain": [
       "| 1.43s                               | 0                | 0               |"
      ]
     },
     "metadata": {},
     "output_type": "display_data"
    },
    {
     "data": {
      "text/html": [
       "<pre>| 2.47s                               | 100              | 6734            |</pre>"
      ],
      "text/plain": [
       "| 2.47s                               | 100              | 6734            |"
      ]
     },
     "metadata": {},
     "output_type": "display_data"
    },
    {
     "data": {
      "text/html": [
       "<pre>+-------------------------------------+------------------+-----------------+</pre>"
      ],
      "text/plain": [
       "+-------------------------------------+------------------+-----------------+"
      ]
     },
     "metadata": {},
     "output_type": "display_data"
    },
    {
     "data": {
      "text/html": [
       "<pre>Finalizing lookup tables.</pre>"
      ],
      "text/plain": [
       "Finalizing lookup tables."
      ]
     },
     "metadata": {},
     "output_type": "display_data"
    },
    {
     "data": {
      "text/html": [
       "<pre>Generating candidate set for working with new users.</pre>"
      ],
      "text/plain": [
       "Generating candidate set for working with new users."
      ]
     },
     "metadata": {},
     "output_type": "display_data"
    },
    {
     "data": {
      "text/html": [
       "<pre>Finished training in 3.54008s</pre>"
      ],
      "text/plain": [
       "Finished training in 3.54008s"
      ]
     },
     "metadata": {},
     "output_type": "display_data"
    }
   ],
   "source": [
    "item_sim_model = graphlab.item_similarity_recommender.create(train_data, \n",
    "user_id='userId', item_id='movieId', target='rating', similarity_type='cosine')"
   ]
  },
  {
   "cell_type": "code",
   "execution_count": 18,
   "metadata": {
    "collapsed": false
   },
   "outputs": [
    {
     "name": "stdout",
     "output_type": "stream",
     "text": [
      "+--------+---------+-----------------+------+\n",
      "| userId | movieId |      score      | rank |\n",
      "+--------+---------+-----------------+------+\n",
      "|  600   |   3276  |  0.256676083803 |  1   |\n",
      "|  600   |   3596  |  0.256676083803 |  2   |\n",
      "|  600   |   2887  |  0.256676083803 |  3   |\n",
      "|  600   |   3031  |  0.256676083803 |  4   |\n",
      "|  600   |   1022  |  0.245341426134 |  5   |\n",
      "|  600   |  47382  |  0.220471179485 |  6   |\n",
      "|  600   |  31193  |  0.220471179485 |  7   |\n",
      "|  600   |  58105  |  0.21992225647  |  8   |\n",
      "|  600   |  57326  |  0.215417468548 |  9   |\n",
      "|  600   |  44193  |  0.214843547344 |  10  |\n",
      "|  600   |   2090  |  0.212899321318 |  11  |\n",
      "|  600   |   7102  |  0.20945289731  |  12  |\n",
      "|  600   |  32882  |  0.207478058338 |  13  |\n",
      "|  600   |  78517  |  0.207446944714 |  14  |\n",
      "|  600   |   7334  |  0.207446944714 |  15  |\n",
      "|  600   |   6584  |  0.207446944714 |  16  |\n",
      "|  600   |   3334  |  0.207446944714 |  17  |\n",
      "|  600   |   4628  |  0.205711913109 |  18  |\n",
      "|  600   |  48982  |  0.205507314205 |  19  |\n",
      "|  600   |   7149  |  0.204467207193 |  20  |\n",
      "|  600   |  53121  |  0.203379017115 |  21  |\n",
      "|  600   |   6708  |  0.197068852186 |  22  |\n",
      "|  600   |   7044  |  0.194804406166 |  23  |\n",
      "|  600   |  59387  |  0.192847841978 |  24  |\n",
      "|  600   |  80489  |  0.192478001118 |  25  |\n",
      "|  601   |   911   |  0.255442395806 |  1   |\n",
      "|  601   |  57368  |  0.245335732897 |  2   |\n",
      "|  601   |   2541  |  0.243358775973 |  3   |\n",
      "|  601   |   1629  |  0.230970303218 |  4   |\n",
      "|  601   |  135887 |  0.211345637838 |  5   |\n",
      "|  601   |   932   |  0.202946051955 |  6   |\n",
      "|  601   |   1821  |  0.185420110822 |  7   |\n",
      "|  601   |   2701  |  0.183829764525 |  8   |\n",
      "|  601   |  27821  |  0.183500463764 |  9   |\n",
      "|  601   |   2736  |  0.178405463696 |  10  |\n",
      "|  601   |   3922  |  0.178405463696 |  11  |\n",
      "|  601   |   463   |  0.177556321025 |  12  |\n",
      "|  601   |   6810  |  0.176011189818 |  13  |\n",
      "|  601   |   1054  |  0.174948319793 |  14  |\n",
      "|  601   |  94478  |  0.173262769977 |  15  |\n",
      "|  601   |   6156  |  0.172195365032 |  16  |\n",
      "|  601   |   3505  |  0.171147421002 |  17  |\n",
      "|  601   |   3450  |  0.168982610106 |  18  |\n",
      "|  601   |   4025  |  0.167814821005 |  19  |\n",
      "|  601   |  69306  |  0.165664737423 |  20  |\n",
      "|  601   |  68319  |  0.165278414885 |  21  |\n",
      "|  601   |   3812  |  0.164986729622 |  22  |\n",
      "|  601   |   4370  |  0.164947390556 |  23  |\n",
      "|  601   |  102125 |  0.163985908031 |  24  |\n",
      "|  601   |   4109  |  0.163777321577 |  25  |\n",
      "|  602   |   586   |  0.384637639684 |  1   |\n",
      "|  602   |   587   |  0.371599725748 |  2   |\n",
      "|  602   |   500   |  0.335003546739 |  3   |\n",
      "|  602   |   454   |  0.323241188365 |  4   |\n",
      "|  602   |   253   |  0.286136641341 |  5   |\n",
      "|  602   |    39   |  0.272535518064 |  6   |\n",
      "|  602   |   185   |  0.268906231654 |  7   |\n",
      "|  602   |   165   |  0.25641867973  |  8   |\n",
      "|  602   |   339   |  0.250416368751 |  9   |\n",
      "|  602   |   160   |  0.247435115151 |  10  |\n",
      "|  602   |   377   |  0.246366720078 |  11  |\n",
      "|  602   |   590   |  0.239183850208 |  12  |\n",
      "|  602   |   440   |  0.230086949922 |  13  |\n",
      "|  602   |   442   |  0.226911583189 |  14  |\n",
      "|  602   |   420   |  0.224905767683 |  15  |\n",
      "|  602   |   435   |  0.224806652231 |  16  |\n",
      "|  602   |   485   |  0.22472109835  |  17  |\n",
      "|  602   |   588   |  0.220150188874 |  18  |\n",
      "|  602   |   357   |  0.217622177076 |  19  |\n",
      "|  602   |    19   |  0.212969592062 |  20  |\n",
      "|  602   |   648   |  0.21198268462  |  21  |\n",
      "|  602   |   317   |  0.209954987138 |  22  |\n",
      "|  602   |    44   |  0.195387396772 |  23  |\n",
      "|  602   |   333   |  0.194739346787 |  24  |\n",
      "|  602   |   780   |  0.187817682654 |  25  |\n",
      "|  603   |   153   |  0.209527631601 |  1   |\n",
      "|  603   |   784   |  0.20861817648  |  2   |\n",
      "|  603   |   1370  |  0.188883371651 |  3   |\n",
      "|  603   |   344   |  0.176026756565 |  4   |\n",
      "|  603   |   597   |  0.174455949416 |  5   |\n",
      "|  603   |   316   |  0.168341670185 |  6   |\n",
      "|  603   |   208   |  0.165329332153 |  7   |\n",
      "|  603   |   500   |  0.155134938657 |  8   |\n",
      "|  603   |   370   |  0.155048320691 |  9   |\n",
      "|  603   |   1855  |  0.154951475561 |  10  |\n",
      "|  603   |   1391  |  0.154326931884 |  11  |\n",
      "|  603   |    19   |  0.146727735798 |  12  |\n",
      "|  603   |    39   |  0.145100993415 |  13  |\n",
      "|  603   |   2265  |  0.142330288887 |  14  |\n",
      "|  603   |   780   |  0.139943995823 |  15  |\n",
      "|  603   |   435   |  0.139097694308 |  16  |\n",
      "|  603   |   1088  |  0.136051980158 |  17  |\n",
      "|  603   |   588   |  0.134299241006 |  18  |\n",
      "|  603   |    2    |  0.130825632562 |  19  |\n",
      "|  603   |   466   |  0.129482184847 |  20  |\n",
      "|  603   |   3042  |  0.128896068782 |  21  |\n",
      "|  603   |   434   |  0.128774312635 |  22  |\n",
      "|  603   |   364   |  0.127828848859 |  23  |\n",
      "|  603   |   380   |  0.126016332457 |  24  |\n",
      "|  603   |   329   |  0.125932022929 |  25  |\n",
      "|  604   |   231   |  0.179618412798 |  1   |\n",
      "|  604   |   153   |  0.179110564969 |  2   |\n",
      "|  604   |   2012  |  0.175075460564 |  3   |\n",
      "|  604   |   208   |  0.172663385218 |  4   |\n",
      "|  604   |   367   |  0.171020383185 |  5   |\n",
      "|  604   |   586   |  0.16859250177  |  6   |\n",
      "|  604   |   435   |  0.159604776989 |  7   |\n",
      "|  604   |   420   |  0.159059524536 |  8   |\n",
      "|  604   |   2402  |  0.158896977251 |  9   |\n",
      "|  604   |   5387  |  0.158159125935 |  10  |\n",
      "|  604   |   3448  |  0.157737016678 |  11  |\n",
      "|  604   |   597   |  0.155929625034 |  12  |\n",
      "|  604   |   380   |  0.155554896051 |  13  |\n",
      "|  604   |   5675  |  0.155002810738 |  14  |\n",
      "|  604   |   4043  |  0.155002810738 |  15  |\n",
      "|  604   |   4046  |  0.155002810738 |  16  |\n",
      "|  604   |   4048  |  0.155002810738 |  17  |\n",
      "|  604   |   4849  |  0.155002810738 |  18  |\n",
      "|  604   |   3900  |  0.155002810738 |  19  |\n",
      "|  604   |   4652  |  0.155002810738 |  20  |\n",
      "|  604   |   5312  |  0.15412763032  |  21  |\n",
      "|  604   |   2373  |  0.153166705912 |  22  |\n",
      "|  604   |   432   |  0.152714864774 |  23  |\n",
      "|  604   |   317   |  0.151966159994 |  24  |\n",
      "|  604   |   2989  |  0.151240403002 |  25  |\n",
      "|  605   |   472   | 0.0678405781587 |  1   |\n",
      "|  605   |   244   | 0.0678405781587 |  2   |\n",
      "|  605   |   864   | 0.0678405781587 |  3   |\n",
      "|  605   |   119   | 0.0661706372102 |  4   |\n",
      "|  605   |   1535  | 0.0661706372102 |  5   |\n",
      "|  605   |   998   |  0.06607967635  |  6   |\n",
      "|  605   |   304   |  0.065173911651 |  7   |\n",
      "|  605   |   137   |  0.065173911651 |  8   |\n",
      "|  605   |   586   | 0.0651411215464 |  9   |\n",
      "|  605   |   1168  | 0.0644969089826 |  10  |\n",
      "|  605   |   561   |  0.064189094305 |  11  |\n",
      "|  605   |   512   | 0.0640073188146 |  12  |\n",
      "|  605   |   980   | 0.0633307017883 |  13  |\n",
      "|  605   |   2180  | 0.0633134945234 |  14  |\n",
      "|  605   |   325   | 0.0626956208547 |  15  |\n",
      "|  605   |   775   | 0.0626956208547 |  16  |\n",
      "|  605   |   4116  | 0.0625655867656 |  17  |\n",
      "|  605   |   4136  | 0.0625655867656 |  18  |\n",
      "|  605   |   1508  | 0.0618302424749 |  19  |\n",
      "|  605   |   1546  | 0.0618302424749 |  20  |\n",
      "|  605   |   1458  | 0.0618302424749 |  21  |\n",
      "|  605   |   1896  | 0.0613199247917 |  22  |\n",
      "|  605   |   2432  | 0.0613199247917 |  23  |\n",
      "|  605   |   2007  | 0.0613199247917 |  24  |\n",
      "|  605   |   3204  | 0.0613199247917 |  25  |\n",
      "|  606   |   2372  |  0.312273681164 |  1   |\n",
      "|  606   |   2092  |  0.296810112216 |  2   |\n",
      "|  606   |   479   |  0.243564410643 |  3   |\n",
      "|  606   |    63   |  0.24125569517  |  4   |\n",
      "|  606   |   1581  |  0.217528337782 |  5   |\n",
      "|  606   |  53894  |  0.214007995345 |  6   |\n",
      "|  606   |   841   |  0.211632744832 |  7   |\n",
      "|  606   |   1379  |  0.211303759705 |  8   |\n",
      "|  606   |   3087  |  0.205762023276 |  9   |\n",
      "|  606   |   1243  |  0.203109432351 |  10  |\n",
      "|  606   |   2385  |  0.202844869007 |  11  |\n",
      "|  606   |   450   |  0.198292607611 |  12  |\n",
      "|  606   |   2468  |  0.197428107262 |  13  |\n",
      "|  606   |   3387  |   0.196828853   |  14  |\n",
      "|  606   |   3896  |  0.191491614689 |  15  |\n",
      "|  606   |   5791  |  0.185099807653 |  16  |\n",
      "|  606   |   2145  |  0.181937309829 |  17  |\n",
      "|  606   |   1703  |  0.181171774864 |  18  |\n",
      "|  606   |   269   |  0.175636784597 |  19  |\n",
      "|  606   |   580   |  0.175636784597 |  20  |\n",
      "|  606   |   1884  |  0.174584307454 |  21  |\n",
      "|  606   |    11   |  0.172935361212 |  22  |\n",
      "|  606   |   6708  |  0.172301254489 |  23  |\n",
      "|  606   |   2012  |  0.169089496136 |  24  |\n",
      "|  606   |  77201  |  0.166147551753 |  25  |\n",
      "|  607   |   316   |  0.229046205212 |  1   |\n",
      "|  607   |   380   |  0.222074622266 |  2   |\n",
      "|  607   |   434   |  0.220477444284 |  3   |\n",
      "|  607   |   454   |  0.205807492312 |  4   |\n",
      "|  607   |   160   |  0.203595257507 |  5   |\n",
      "|  607   |   539   |  0.201770743903 |  6   |\n",
      "|  607   |    39   |  0.19724075093  |  7   |\n",
      "|  607   |   370   |  0.191180505472 |  8   |\n",
      "|  607   |   253   |  0.19007276507  |  9   |\n",
      "|  607   |    10   |  0.187858442699 |  10  |\n",
      "|  607   |   592   |  0.187367766745 |  11  |\n",
      "|  607   |   377   |  0.185624336495 |  12  |\n",
      "|  607   |   357   |  0.183572694835 |  13  |\n",
      "|  607   |   588   |  0.182142110432 |  14  |\n",
      "|  607   |   329   |  0.174605368165 |  15  |\n",
      "|  607   |   440   |  0.173743788635 |  16  |\n",
      "|  607   |   648   |  0.168852107665 |  17  |\n",
      "|  607   |   435   |  0.161991148836 |  18  |\n",
      "|  607   |    44   |  0.158614439824 |  19  |\n",
      "|  607   |   196   |  0.154463310101 |  20  |\n",
      "|  607   |   173   |  0.148926892701 |  21  |\n",
      "|  607   |   780   |  0.144570495802 |  22  |\n",
      "|  607   |   165   |  0.140835490647 |  23  |\n",
      "|  607   |   292   |  0.140555895076 |  24  |\n",
      "|  607   |   736   |  0.139220035777 |  25  |\n",
      "+--------+---------+-----------------+------+\n",
      "[375 rows x 4 columns]\n",
      "\n"
     ]
    }
   ],
   "source": [
    "item_sim_recomm = item_sim_model.recommend(users=range(600,615),k=25)\n",
    "item_sim_recomm.print_rows(num_rows=200)"
   ]
  },
  {
   "cell_type": "code",
   "execution_count": 33,
   "metadata": {
    "collapsed": false
   },
   "outputs": [
    {
     "name": "stdout",
     "output_type": "stream",
     "text": [
      "PROGRESS: Evaluate model M0\n",
      "\n",
      "Precision and recall summary statistics by cutoff\n",
      "+--------+------------------+-------------------+\n",
      "| cutoff |  mean_precision  |    mean_recall    |\n",
      "+--------+------------------+-------------------+\n",
      "|   1    | 0.00596125186289 | 3.50364711219e-05 |\n",
      "|   2    | 0.00372578241431 | 3.94326745606e-05 |\n",
      "|   3    | 0.00298062593145 | 5.93035141036e-05 |\n",
      "|   4    | 0.00409836065574 | 7.91492100031e-05 |\n",
      "|   5    | 0.00387481371088 | 9.17760633001e-05 |\n",
      "|   6    | 0.00347739692002 | 9.32429067703e-05 |\n",
      "|   7    | 0.00425803704492 | 0.000132228933206 |\n",
      "|   8    | 0.00372578241431 | 0.000132228933206 |\n",
      "|   9    | 0.00380857757907 | 0.000154566052767 |\n",
      "|   10   | 0.00342771982116 | 0.000154566052767 |\n",
      "+--------+------------------+-------------------+\n",
      "[10 rows x 3 columns]\n",
      "\n",
      "PROGRESS: Evaluate model M1\n",
      "\n",
      "Precision and recall summary statistics by cutoff\n",
      "+--------+----------------+------------------+\n",
      "| cutoff | mean_precision |   mean_recall    |\n",
      "+--------+----------------+------------------+\n",
      "|   1    | 0.146050670641 | 0.00352866657312 |\n",
      "|   2    | 0.149031296572 | 0.00782953001462 |\n",
      "|   3    | 0.144560357675 | 0.0112949005327  |\n",
      "|   4    | 0.144560357675 | 0.0155929160658  |\n",
      "|   5    | 0.139791356185 |  0.019202672099  |\n",
      "|   6    | 0.137605563835 | 0.0224466244969  |\n",
      "|   7    | 0.134979774324 | 0.0252163860387  |\n",
      "|   8    | 0.133196721311 |  0.028089160903  |\n",
      "|   9    | 0.130319589336 | 0.0305215459146  |\n",
      "|   10   | 0.125931445604 | 0.0332430068982  |\n",
      "+--------+----------------+------------------+\n",
      "[10 rows x 3 columns]\n",
      "\n",
      "Model compare metric: precision_recall\n",
      "Canvas is accessible via web browser at the URL: http://localhost:49659/index.html\n",
      "Opening Canvas in default web browser.\n"
     ]
    }
   ],
   "source": [
    "model_performance = graphlab.compare(test_data, [popularity_model, item_sim_model])\n",
    "graphlab.show_comparison(model_performance,[popularity_model, item_sim_model])"
   ]
  },
  {
   "cell_type": "markdown",
   "metadata": {},
   "source": [
    "### This shows that item similarity model gives better precision and recall."
   ]
  },
  {
   "cell_type": "code",
   "execution_count": null,
   "metadata": {
    "collapsed": true
   },
   "outputs": [],
   "source": []
  }
 ],
 "metadata": {
  "kernelspec": {
   "display_name": "Python 2",
   "language": "python",
   "name": "python2"
  },
  "language_info": {
   "codemirror_mode": {
    "name": "ipython",
    "version": 2
   },
   "file_extension": ".py",
   "mimetype": "text/x-python",
   "name": "python",
   "nbconvert_exporter": "python",
   "pygments_lexer": "ipython2",
   "version": "2.7.11"
  }
 },
 "nbformat": 4,
 "nbformat_minor": 0
}
