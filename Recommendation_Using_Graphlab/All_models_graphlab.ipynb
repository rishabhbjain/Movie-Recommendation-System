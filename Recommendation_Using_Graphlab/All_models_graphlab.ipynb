{
 "cells": [
  {
   "cell_type": "code",
   "execution_count": 1,
   "metadata": {
    "collapsed": true
   },
   "outputs": [],
   "source": [
    "import graphlab"
   ]
  },
  {
   "cell_type": "code",
   "execution_count": 2,
   "metadata": {
    "collapsed": false
   },
   "outputs": [],
   "source": [
    "url1 = 'https://s3.amazonaws.com/testonfiles/FurtherData.zip'"
   ]
  },
  {
   "cell_type": "code",
   "execution_count": 3,
   "metadata": {
    "collapsed": true
   },
   "outputs": [],
   "source": [
    "import pandas as pd"
   ]
  },
  {
   "cell_type": "code",
   "execution_count": 4,
   "metadata": {
    "collapsed": true
   },
   "outputs": [],
   "source": [
    "import requests\n",
    "import zipfile,io\n",
    "import os\n",
    "import shutil"
   ]
  },
  {
   "cell_type": "code",
   "execution_count": 5,
   "metadata": {
    "collapsed": true
   },
   "outputs": [],
   "source": [
    "# make directory:\n",
    "try:\n",
    "    if not os.path.exists('checkdata1'):\n",
    "        os.makedirs('checkdata1', mode=0o777)\n",
    "    else:\n",
    "        shutil.rmtree(os.path.join(os.path.dirname(__file__),'checkdata1'),ignore_errors=False)\n",
    "        os.makedirs('checkdata1', mode=0o777)\n",
    "except Exception as e:\n",
    "    exit()"
   ]
  },
  {
   "cell_type": "code",
   "execution_count": null,
   "metadata": {
    "collapsed": true
   },
   "outputs": [],
   "source": [
    "# Download zipfile\n",
    "try:\n",
    "    rzip = requests.get(url1)\n",
    "    zf = zipfile.ZipFile(io.BytesIO(rzip.content))\n",
    "    zf.extractall('checkdata1')\n",
    "except Exception as e:\n",
    "    print(e)"
   ]
  },
  {
   "cell_type": "code",
   "execution_count": 5,
   "metadata": {
    "collapsed": false
   },
   "outputs": [
    {
     "name": "stderr",
     "output_type": "stream",
     "text": [
      "[INFO] graphlab.cython.cy_server: GraphLab Create v2.1 started. Logging: /tmp/graphlab_server_1524814763.log\n",
      "INFO:graphlab.cython.cy_server:GraphLab Create v2.1 started. Logging: /tmp/graphlab_server_1524814763.log\n"
     ]
    },
    {
     "data": {
      "text/html": [
       "<pre>Finished parsing file /home/ubuntu/checkdata1/cleaneddata.csv</pre>"
      ],
      "text/plain": [
       "Finished parsing file /home/ubuntu/checkdata1/cleaneddata.csv"
      ]
     },
     "metadata": {},
     "output_type": "display_data"
    },
    {
     "data": {
      "text/html": [
       "<pre>Parsing completed. Parsed 100 lines in 0.108836 secs.</pre>"
      ],
      "text/plain": [
       "Parsing completed. Parsed 100 lines in 0.108836 secs."
      ]
     },
     "metadata": {},
     "output_type": "display_data"
    },
    {
     "name": "stdout",
     "output_type": "stream",
     "text": [
      "This non-commercial license of GraphLab Create for academic use is assigned to jain.rishabh@husky.neu.edu and will expire on April 22, 2019.\n",
      "------------------------------------------------------"
     ]
    },
    {
     "data": {
      "text/html": [
       "<pre>Finished parsing file /home/ubuntu/checkdata1/cleaneddata.csv</pre>"
      ],
      "text/plain": [
       "Finished parsing file /home/ubuntu/checkdata1/cleaneddata.csv"
      ]
     },
     "metadata": {},
     "output_type": "display_data"
    },
    {
     "data": {
      "text/html": [
       "<pre>Parsing completed. Parsed 100004 lines in 0.11418 secs.</pre>"
      ],
      "text/plain": [
       "Parsing completed. Parsed 100004 lines in 0.11418 secs."
      ]
     },
     "metadata": {},
     "output_type": "display_data"
    },
    {
     "name": "stdout",
     "output_type": "stream",
     "text": [
      "\n",
      "Inferred types from first 100 line(s) of file as \n",
      "column_type_hints=[int,int,int,float]\n",
      "If parsing fails due to incorrect types, you can correct\n",
      "the inferred type list above and pass it to read_csv in\n",
      "the column_type_hints argument\n",
      "------------------------------------------------------\n"
     ]
    }
   ],
   "source": [
    "train_data = graphlab.SFrame('checkdata1/cleaneddata.csv')"
   ]
  },
  {
   "cell_type": "code",
   "execution_count": 6,
   "metadata": {
    "collapsed": true
   },
   "outputs": [],
   "source": [
    "import pandas as pd\n",
    "df = pd.read_csv('checkdata1/cleaneddata.csv')"
   ]
  },
  {
   "cell_type": "code",
   "execution_count": 7,
   "metadata": {
    "collapsed": false,
    "scrolled": false
   },
   "outputs": [
    {
     "data": {
      "text/html": [
       "<div>\n",
       "<table border=\"1\" class=\"dataframe\">\n",
       "  <thead>\n",
       "    <tr style=\"text-align: right;\">\n",
       "      <th></th>\n",
       "      <th>userId</th>\n",
       "      <th>movieId</th>\n",
       "      <th>timestamp</th>\n",
       "      <th>rating</th>\n",
       "    </tr>\n",
       "  </thead>\n",
       "  <tbody>\n",
       "    <tr>\n",
       "      <th>0</th>\n",
       "      <td>68</td>\n",
       "      <td>1</td>\n",
       "      <td>1970</td>\n",
       "      <td>2.908940</td>\n",
       "    </tr>\n",
       "    <tr>\n",
       "      <th>1</th>\n",
       "      <td>68</td>\n",
       "      <td>2</td>\n",
       "      <td>1970</td>\n",
       "      <td>2.248639</td>\n",
       "    </tr>\n",
       "    <tr>\n",
       "      <th>2</th>\n",
       "      <td>68</td>\n",
       "      <td>11</td>\n",
       "      <td>1970</td>\n",
       "      <td>2.578789</td>\n",
       "    </tr>\n",
       "    <tr>\n",
       "      <th>3</th>\n",
       "      <td>68</td>\n",
       "      <td>150</td>\n",
       "      <td>1970</td>\n",
       "      <td>2.908940</td>\n",
       "    </tr>\n",
       "    <tr>\n",
       "      <th>4</th>\n",
       "      <td>68</td>\n",
       "      <td>260</td>\n",
       "      <td>1970</td>\n",
       "      <td>2.248639</td>\n",
       "    </tr>\n",
       "    <tr>\n",
       "      <th>5</th>\n",
       "      <td>68</td>\n",
       "      <td>317</td>\n",
       "      <td>1970</td>\n",
       "      <td>2.248639</td>\n",
       "    </tr>\n",
       "    <tr>\n",
       "      <th>6</th>\n",
       "      <td>68</td>\n",
       "      <td>318</td>\n",
       "      <td>1970</td>\n",
       "      <td>2.908940</td>\n",
       "    </tr>\n",
       "    <tr>\n",
       "      <th>7</th>\n",
       "      <td>68</td>\n",
       "      <td>356</td>\n",
       "      <td>1970</td>\n",
       "      <td>2.908940</td>\n",
       "    </tr>\n",
       "    <tr>\n",
       "      <th>8</th>\n",
       "      <td>68</td>\n",
       "      <td>367</td>\n",
       "      <td>1970</td>\n",
       "      <td>2.248639</td>\n",
       "    </tr>\n",
       "    <tr>\n",
       "      <th>9</th>\n",
       "      <td>68</td>\n",
       "      <td>380</td>\n",
       "      <td>1970</td>\n",
       "      <td>2.908940</td>\n",
       "    </tr>\n",
       "    <tr>\n",
       "      <th>10</th>\n",
       "      <td>68</td>\n",
       "      <td>454</td>\n",
       "      <td>1970</td>\n",
       "      <td>2.908940</td>\n",
       "    </tr>\n",
       "    <tr>\n",
       "      <th>11</th>\n",
       "      <td>68</td>\n",
       "      <td>457</td>\n",
       "      <td>1970</td>\n",
       "      <td>2.908940</td>\n",
       "    </tr>\n",
       "    <tr>\n",
       "      <th>12</th>\n",
       "      <td>68</td>\n",
       "      <td>468</td>\n",
       "      <td>1970</td>\n",
       "      <td>2.248639</td>\n",
       "    </tr>\n",
       "    <tr>\n",
       "      <th>13</th>\n",
       "      <td>68</td>\n",
       "      <td>480</td>\n",
       "      <td>1970</td>\n",
       "      <td>2.908940</td>\n",
       "    </tr>\n",
       "    <tr>\n",
       "      <th>14</th>\n",
       "      <td>68</td>\n",
       "      <td>500</td>\n",
       "      <td>1970</td>\n",
       "      <td>2.908940</td>\n",
       "    </tr>\n",
       "    <tr>\n",
       "      <th>15</th>\n",
       "      <td>68</td>\n",
       "      <td>527</td>\n",
       "      <td>1970</td>\n",
       "      <td>2.578789</td>\n",
       "    </tr>\n",
       "    <tr>\n",
       "      <th>16</th>\n",
       "      <td>68</td>\n",
       "      <td>539</td>\n",
       "      <td>1970</td>\n",
       "      <td>2.578789</td>\n",
       "    </tr>\n",
       "    <tr>\n",
       "      <th>17</th>\n",
       "      <td>68</td>\n",
       "      <td>541</td>\n",
       "      <td>1970</td>\n",
       "      <td>2.578789</td>\n",
       "    </tr>\n",
       "    <tr>\n",
       "      <th>18</th>\n",
       "      <td>68</td>\n",
       "      <td>586</td>\n",
       "      <td>1970</td>\n",
       "      <td>2.578789</td>\n",
       "    </tr>\n",
       "    <tr>\n",
       "      <th>19</th>\n",
       "      <td>68</td>\n",
       "      <td>587</td>\n",
       "      <td>1970</td>\n",
       "      <td>2.908940</td>\n",
       "    </tr>\n",
       "    <tr>\n",
       "      <th>20</th>\n",
       "      <td>68</td>\n",
       "      <td>590</td>\n",
       "      <td>1970</td>\n",
       "      <td>2.578789</td>\n",
       "    </tr>\n",
       "    <tr>\n",
       "      <th>21</th>\n",
       "      <td>68</td>\n",
       "      <td>592</td>\n",
       "      <td>1970</td>\n",
       "      <td>2.578789</td>\n",
       "    </tr>\n",
       "    <tr>\n",
       "      <th>22</th>\n",
       "      <td>68</td>\n",
       "      <td>597</td>\n",
       "      <td>1970</td>\n",
       "      <td>2.248639</td>\n",
       "    </tr>\n",
       "    <tr>\n",
       "      <th>23</th>\n",
       "      <td>68</td>\n",
       "      <td>778</td>\n",
       "      <td>1970</td>\n",
       "      <td>1.918489</td>\n",
       "    </tr>\n",
       "    <tr>\n",
       "      <th>24</th>\n",
       "      <td>68</td>\n",
       "      <td>780</td>\n",
       "      <td>1970</td>\n",
       "      <td>2.578789</td>\n",
       "    </tr>\n",
       "    <tr>\n",
       "      <th>25</th>\n",
       "      <td>68</td>\n",
       "      <td>904</td>\n",
       "      <td>1970</td>\n",
       "      <td>2.908940</td>\n",
       "    </tr>\n",
       "    <tr>\n",
       "      <th>26</th>\n",
       "      <td>68</td>\n",
       "      <td>908</td>\n",
       "      <td>1970</td>\n",
       "      <td>2.908940</td>\n",
       "    </tr>\n",
       "    <tr>\n",
       "      <th>27</th>\n",
       "      <td>68</td>\n",
       "      <td>912</td>\n",
       "      <td>1970</td>\n",
       "      <td>2.908940</td>\n",
       "    </tr>\n",
       "    <tr>\n",
       "      <th>28</th>\n",
       "      <td>68</td>\n",
       "      <td>914</td>\n",
       "      <td>1970</td>\n",
       "      <td>2.908940</td>\n",
       "    </tr>\n",
       "    <tr>\n",
       "      <th>29</th>\n",
       "      <td>68</td>\n",
       "      <td>933</td>\n",
       "      <td>1970</td>\n",
       "      <td>2.578789</td>\n",
       "    </tr>\n",
       "    <tr>\n",
       "      <th>...</th>\n",
       "      <td>...</td>\n",
       "      <td>...</td>\n",
       "      <td>...</td>\n",
       "      <td>...</td>\n",
       "    </tr>\n",
       "    <tr>\n",
       "      <th>99974</th>\n",
       "      <td>504</td>\n",
       "      <td>2167</td>\n",
       "      <td>1970</td>\n",
       "      <td>2.744536</td>\n",
       "    </tr>\n",
       "    <tr>\n",
       "      <th>99975</th>\n",
       "      <td>504</td>\n",
       "      <td>2169</td>\n",
       "      <td>1970</td>\n",
       "      <td>3.404836</td>\n",
       "    </tr>\n",
       "    <tr>\n",
       "      <th>99976</th>\n",
       "      <td>504</td>\n",
       "      <td>2188</td>\n",
       "      <td>1970</td>\n",
       "      <td>3.404836</td>\n",
       "    </tr>\n",
       "    <tr>\n",
       "      <th>99977</th>\n",
       "      <td>504</td>\n",
       "      <td>2190</td>\n",
       "      <td>1970</td>\n",
       "      <td>2.084235</td>\n",
       "    </tr>\n",
       "    <tr>\n",
       "      <th>99978</th>\n",
       "      <td>227</td>\n",
       "      <td>2231</td>\n",
       "      <td>1970</td>\n",
       "      <td>3.525468</td>\n",
       "    </tr>\n",
       "    <tr>\n",
       "      <th>99979</th>\n",
       "      <td>227</td>\n",
       "      <td>2236</td>\n",
       "      <td>1970</td>\n",
       "      <td>0.884266</td>\n",
       "    </tr>\n",
       "    <tr>\n",
       "      <th>99980</th>\n",
       "      <td>227</td>\n",
       "      <td>2273</td>\n",
       "      <td>1970</td>\n",
       "      <td>2.865167</td>\n",
       "    </tr>\n",
       "    <tr>\n",
       "      <th>99981</th>\n",
       "      <td>227</td>\n",
       "      <td>2279</td>\n",
       "      <td>1970</td>\n",
       "      <td>3.525468</td>\n",
       "    </tr>\n",
       "    <tr>\n",
       "      <th>99982</th>\n",
       "      <td>227</td>\n",
       "      <td>2296</td>\n",
       "      <td>1970</td>\n",
       "      <td>1.544567</td>\n",
       "    </tr>\n",
       "    <tr>\n",
       "      <th>99983</th>\n",
       "      <td>227</td>\n",
       "      <td>2306</td>\n",
       "      <td>1970</td>\n",
       "      <td>2.865167</td>\n",
       "    </tr>\n",
       "    <tr>\n",
       "      <th>99984</th>\n",
       "      <td>227</td>\n",
       "      <td>2315</td>\n",
       "      <td>1970</td>\n",
       "      <td>3.525468</td>\n",
       "    </tr>\n",
       "    <tr>\n",
       "      <th>99985</th>\n",
       "      <td>227</td>\n",
       "      <td>2316</td>\n",
       "      <td>1970</td>\n",
       "      <td>2.865167</td>\n",
       "    </tr>\n",
       "    <tr>\n",
       "      <th>99986</th>\n",
       "      <td>227</td>\n",
       "      <td>2321</td>\n",
       "      <td>1970</td>\n",
       "      <td>0.884266</td>\n",
       "    </tr>\n",
       "    <tr>\n",
       "      <th>99987</th>\n",
       "      <td>227</td>\n",
       "      <td>2328</td>\n",
       "      <td>1970</td>\n",
       "      <td>3.525468</td>\n",
       "    </tr>\n",
       "    <tr>\n",
       "      <th>99988</th>\n",
       "      <td>227</td>\n",
       "      <td>2333</td>\n",
       "      <td>1970</td>\n",
       "      <td>2.865167</td>\n",
       "    </tr>\n",
       "    <tr>\n",
       "      <th>99989</th>\n",
       "      <td>227</td>\n",
       "      <td>2334</td>\n",
       "      <td>1970</td>\n",
       "      <td>3.525468</td>\n",
       "    </tr>\n",
       "    <tr>\n",
       "      <th>99990</th>\n",
       "      <td>227</td>\n",
       "      <td>2335</td>\n",
       "      <td>1970</td>\n",
       "      <td>3.525468</td>\n",
       "    </tr>\n",
       "    <tr>\n",
       "      <th>99991</th>\n",
       "      <td>227</td>\n",
       "      <td>2336</td>\n",
       "      <td>1970</td>\n",
       "      <td>2.204867</td>\n",
       "    </tr>\n",
       "    <tr>\n",
       "      <th>99992</th>\n",
       "      <td>227</td>\n",
       "      <td>2338</td>\n",
       "      <td>1970</td>\n",
       "      <td>3.525468</td>\n",
       "    </tr>\n",
       "    <tr>\n",
       "      <th>99993</th>\n",
       "      <td>227</td>\n",
       "      <td>2339</td>\n",
       "      <td>1970</td>\n",
       "      <td>2.204867</td>\n",
       "    </tr>\n",
       "    <tr>\n",
       "      <th>99994</th>\n",
       "      <td>227</td>\n",
       "      <td>2340</td>\n",
       "      <td>1970</td>\n",
       "      <td>2.865167</td>\n",
       "    </tr>\n",
       "    <tr>\n",
       "      <th>99995</th>\n",
       "      <td>227</td>\n",
       "      <td>2353</td>\n",
       "      <td>1970</td>\n",
       "      <td>3.525468</td>\n",
       "    </tr>\n",
       "    <tr>\n",
       "      <th>99996</th>\n",
       "      <td>227</td>\n",
       "      <td>2354</td>\n",
       "      <td>1970</td>\n",
       "      <td>0.884266</td>\n",
       "    </tr>\n",
       "    <tr>\n",
       "      <th>99997</th>\n",
       "      <td>227</td>\n",
       "      <td>2355</td>\n",
       "      <td>1970</td>\n",
       "      <td>2.204867</td>\n",
       "    </tr>\n",
       "    <tr>\n",
       "      <th>99998</th>\n",
       "      <td>227</td>\n",
       "      <td>2384</td>\n",
       "      <td>1970</td>\n",
       "      <td>0.884266</td>\n",
       "    </tr>\n",
       "    <tr>\n",
       "      <th>99999</th>\n",
       "      <td>227</td>\n",
       "      <td>2385</td>\n",
       "      <td>1970</td>\n",
       "      <td>1.544567</td>\n",
       "    </tr>\n",
       "    <tr>\n",
       "      <th>100000</th>\n",
       "      <td>227</td>\n",
       "      <td>2386</td>\n",
       "      <td>1970</td>\n",
       "      <td>3.525468</td>\n",
       "    </tr>\n",
       "    <tr>\n",
       "      <th>100001</th>\n",
       "      <td>227</td>\n",
       "      <td>2387</td>\n",
       "      <td>1970</td>\n",
       "      <td>3.525468</td>\n",
       "    </tr>\n",
       "    <tr>\n",
       "      <th>100002</th>\n",
       "      <td>227</td>\n",
       "      <td>2389</td>\n",
       "      <td>1970</td>\n",
       "      <td>3.525468</td>\n",
       "    </tr>\n",
       "    <tr>\n",
       "      <th>100003</th>\n",
       "      <td>227</td>\n",
       "      <td>2392</td>\n",
       "      <td>1970</td>\n",
       "      <td>2.865167</td>\n",
       "    </tr>\n",
       "  </tbody>\n",
       "</table>\n",
       "<p>100004 rows × 4 columns</p>\n",
       "</div>"
      ],
      "text/plain": [
       "        userId  movieId  timestamp    rating\n",
       "0           68        1       1970  2.908940\n",
       "1           68        2       1970  2.248639\n",
       "2           68       11       1970  2.578789\n",
       "3           68      150       1970  2.908940\n",
       "4           68      260       1970  2.248639\n",
       "5           68      317       1970  2.248639\n",
       "6           68      318       1970  2.908940\n",
       "7           68      356       1970  2.908940\n",
       "8           68      367       1970  2.248639\n",
       "9           68      380       1970  2.908940\n",
       "10          68      454       1970  2.908940\n",
       "11          68      457       1970  2.908940\n",
       "12          68      468       1970  2.248639\n",
       "13          68      480       1970  2.908940\n",
       "14          68      500       1970  2.908940\n",
       "15          68      527       1970  2.578789\n",
       "16          68      539       1970  2.578789\n",
       "17          68      541       1970  2.578789\n",
       "18          68      586       1970  2.578789\n",
       "19          68      587       1970  2.908940\n",
       "20          68      590       1970  2.578789\n",
       "21          68      592       1970  2.578789\n",
       "22          68      597       1970  2.248639\n",
       "23          68      778       1970  1.918489\n",
       "24          68      780       1970  2.578789\n",
       "25          68      904       1970  2.908940\n",
       "26          68      908       1970  2.908940\n",
       "27          68      912       1970  2.908940\n",
       "28          68      914       1970  2.908940\n",
       "29          68      933       1970  2.578789\n",
       "...        ...      ...        ...       ...\n",
       "99974      504     2167       1970  2.744536\n",
       "99975      504     2169       1970  3.404836\n",
       "99976      504     2188       1970  3.404836\n",
       "99977      504     2190       1970  2.084235\n",
       "99978      227     2231       1970  3.525468\n",
       "99979      227     2236       1970  0.884266\n",
       "99980      227     2273       1970  2.865167\n",
       "99981      227     2279       1970  3.525468\n",
       "99982      227     2296       1970  1.544567\n",
       "99983      227     2306       1970  2.865167\n",
       "99984      227     2315       1970  3.525468\n",
       "99985      227     2316       1970  2.865167\n",
       "99986      227     2321       1970  0.884266\n",
       "99987      227     2328       1970  3.525468\n",
       "99988      227     2333       1970  2.865167\n",
       "99989      227     2334       1970  3.525468\n",
       "99990      227     2335       1970  3.525468\n",
       "99991      227     2336       1970  2.204867\n",
       "99992      227     2338       1970  3.525468\n",
       "99993      227     2339       1970  2.204867\n",
       "99994      227     2340       1970  2.865167\n",
       "99995      227     2353       1970  3.525468\n",
       "99996      227     2354       1970  0.884266\n",
       "99997      227     2355       1970  2.204867\n",
       "99998      227     2384       1970  0.884266\n",
       "99999      227     2385       1970  1.544567\n",
       "100000     227     2386       1970  3.525468\n",
       "100001     227     2387       1970  3.525468\n",
       "100002     227     2389       1970  3.525468\n",
       "100003     227     2392       1970  2.865167\n",
       "\n",
       "[100004 rows x 4 columns]"
      ]
     },
     "execution_count": 7,
     "metadata": {},
     "output_type": "execute_result"
    }
   ],
   "source": [
    "df"
   ]
  },
  {
   "cell_type": "markdown",
   "metadata": {},
   "source": [
    "# Popularity based Recommendations"
   ]
  },
  {
   "cell_type": "code",
   "execution_count": 8,
   "metadata": {
    "collapsed": false
   },
   "outputs": [
    {
     "data": {
      "text/html": [
       "<pre>Recsys training: model = popularity</pre>"
      ],
      "text/plain": [
       "Recsys training: model = popularity"
      ]
     },
     "metadata": {},
     "output_type": "display_data"
    },
    {
     "data": {
      "text/html": [
       "<pre>Warning: Ignoring columns timestamp;</pre>"
      ],
      "text/plain": [
       "Warning: Ignoring columns timestamp;"
      ]
     },
     "metadata": {},
     "output_type": "display_data"
    },
    {
     "data": {
      "text/html": [
       "<pre>    To use these columns in scoring predictions, use a model that allows the use of additional features.</pre>"
      ],
      "text/plain": [
       "    To use these columns in scoring predictions, use a model that allows the use of additional features."
      ]
     },
     "metadata": {},
     "output_type": "display_data"
    },
    {
     "data": {
      "text/html": [
       "<pre>Preparing data set.</pre>"
      ],
      "text/plain": [
       "Preparing data set."
      ]
     },
     "metadata": {},
     "output_type": "display_data"
    },
    {
     "data": {
      "text/html": [
       "<pre>    Data has 100004 observations with 671 users and 9066 items.</pre>"
      ],
      "text/plain": [
       "    Data has 100004 observations with 671 users and 9066 items."
      ]
     },
     "metadata": {},
     "output_type": "display_data"
    },
    {
     "data": {
      "text/html": [
       "<pre>    Data prepared in: 0.144803s</pre>"
      ],
      "text/plain": [
       "    Data prepared in: 0.144803s"
      ]
     },
     "metadata": {},
     "output_type": "display_data"
    },
    {
     "data": {
      "text/html": [
       "<pre>100004 observations to process; with 9066 unique items.</pre>"
      ],
      "text/plain": [
       "100004 observations to process; with 9066 unique items."
      ]
     },
     "metadata": {},
     "output_type": "display_data"
    }
   ],
   "source": [
    "popularity_model = graphlab.popularity_recommender.create(train_data, \n",
    "            user_id='userId', item_id='movieId', target='rating')"
   ]
  },
  {
   "cell_type": "code",
   "execution_count": 11,
   "metadata": {
    "collapsed": false
   },
   "outputs": [],
   "source": [
    "popularity_recomm = popularity_model.recommend(users=range(1,6),k=5)"
   ]
  },
  {
   "cell_type": "code",
   "execution_count": 12,
   "metadata": {
    "collapsed": false,
    "scrolled": true
   },
   "outputs": [
    {
     "name": "stdout",
     "output_type": "stream",
     "text": [
      "+--------+---------+---------------+------+\n",
      "| userId | movieId |     score     | rank |\n",
      "+--------+---------+---------------+------+\n",
      "|   1    |   4591  | 4.65233168868 |  1   |\n",
      "|   1    |   4076  | 4.65233168868 |  2   |\n",
      "|   1    |   1819  | 4.65233168868 |  3   |\n",
      "|   1    |   1563  | 4.65233168868 |  4   |\n",
      "|   1    |   1450  | 4.65233168868 |  5   |\n",
      "|   2    |   4591  | 4.65233168868 |  1   |\n",
      "|   2    |   4076  | 4.65233168868 |  2   |\n",
      "|   2    |   1819  | 4.65233168868 |  3   |\n",
      "|   2    |   1563  | 4.65233168868 |  4   |\n",
      "|   2    |   1450  | 4.65233168868 |  5   |\n",
      "|   3    |   4591  | 4.65233168868 |  1   |\n",
      "|   3    |   4076  | 4.65233168868 |  2   |\n",
      "|   3    |   1819  | 4.65233168868 |  3   |\n",
      "|   3    |   1563  | 4.65233168868 |  4   |\n",
      "|   3    |   1450  | 4.65233168868 |  5   |\n",
      "|   4    |   4591  | 4.65233168868 |  1   |\n",
      "|   4    |   4076  | 4.65233168868 |  2   |\n",
      "|   4    |   1819  | 4.65233168868 |  3   |\n",
      "|   4    |   1563  | 4.65233168868 |  4   |\n",
      "|   4    |   1450  | 4.65233168868 |  5   |\n",
      "|   5    |   4591  | 4.65233168868 |  1   |\n",
      "|   5    |   4076  | 4.65233168868 |  2   |\n",
      "|   5    |   1819  | 4.65233168868 |  3   |\n",
      "|   5    |   1563  | 4.65233168868 |  4   |\n",
      "|   5    |   1450  | 4.65233168868 |  5   |\n",
      "+--------+---------+---------------+------+\n",
      "[25 rows x 4 columns]\n",
      "\n"
     ]
    }
   ],
   "source": [
    "popularity_recomm.print_rows(num_rows=25)"
   ]
  },
  {
   "cell_type": "markdown",
   "metadata": {},
   "source": [
    "# Item Similarity based Recommendations"
   ]
  },
  {
   "cell_type": "code",
   "execution_count": 15,
   "metadata": {
    "collapsed": false
   },
   "outputs": [
    {
     "data": {
      "text/html": [
       "<pre>Recsys training: model = item_similarity</pre>"
      ],
      "text/plain": [
       "Recsys training: model = item_similarity"
      ]
     },
     "metadata": {},
     "output_type": "display_data"
    },
    {
     "data": {
      "text/html": [
       "<pre>Warning: Ignoring columns timestamp;</pre>"
      ],
      "text/plain": [
       "Warning: Ignoring columns timestamp;"
      ]
     },
     "metadata": {},
     "output_type": "display_data"
    },
    {
     "data": {
      "text/html": [
       "<pre>    To use these columns in scoring predictions, use a model that allows the use of additional features.</pre>"
      ],
      "text/plain": [
       "    To use these columns in scoring predictions, use a model that allows the use of additional features."
      ]
     },
     "metadata": {},
     "output_type": "display_data"
    },
    {
     "data": {
      "text/html": [
       "<pre>Preparing data set.</pre>"
      ],
      "text/plain": [
       "Preparing data set."
      ]
     },
     "metadata": {},
     "output_type": "display_data"
    },
    {
     "data": {
      "text/html": [
       "<pre>    Data has 100004 observations with 671 users and 9066 items.</pre>"
      ],
      "text/plain": [
       "    Data has 100004 observations with 671 users and 9066 items."
      ]
     },
     "metadata": {},
     "output_type": "display_data"
    },
    {
     "data": {
      "text/html": [
       "<pre>    Data prepared in: 0.147165s</pre>"
      ],
      "text/plain": [
       "    Data prepared in: 0.147165s"
      ]
     },
     "metadata": {},
     "output_type": "display_data"
    },
    {
     "data": {
      "text/html": [
       "<pre>Training model from provided data.</pre>"
      ],
      "text/plain": [
       "Training model from provided data."
      ]
     },
     "metadata": {},
     "output_type": "display_data"
    },
    {
     "data": {
      "text/html": [
       "<pre>Gathering per-item and per-user statistics.</pre>"
      ],
      "text/plain": [
       "Gathering per-item and per-user statistics."
      ]
     },
     "metadata": {},
     "output_type": "display_data"
    },
    {
     "data": {
      "text/html": [
       "<pre>+--------------------------------+------------+</pre>"
      ],
      "text/plain": [
       "+--------------------------------+------------+"
      ]
     },
     "metadata": {},
     "output_type": "display_data"
    },
    {
     "data": {
      "text/html": [
       "<pre>| Elapsed Time (Item Statistics) | % Complete |</pre>"
      ],
      "text/plain": [
       "| Elapsed Time (Item Statistics) | % Complete |"
      ]
     },
     "metadata": {},
     "output_type": "display_data"
    },
    {
     "data": {
      "text/html": [
       "<pre>+--------------------------------+------------+</pre>"
      ],
      "text/plain": [
       "+--------------------------------+------------+"
      ]
     },
     "metadata": {},
     "output_type": "display_data"
    },
    {
     "data": {
      "text/html": [
       "<pre>| 16.467ms                       | 100        |</pre>"
      ],
      "text/plain": [
       "| 16.467ms                       | 100        |"
      ]
     },
     "metadata": {},
     "output_type": "display_data"
    },
    {
     "data": {
      "text/html": [
       "<pre>+--------------------------------+------------+</pre>"
      ],
      "text/plain": [
       "+--------------------------------+------------+"
      ]
     },
     "metadata": {},
     "output_type": "display_data"
    },
    {
     "data": {
      "text/html": [
       "<pre>Setting up lookup tables.</pre>"
      ],
      "text/plain": [
       "Setting up lookup tables."
      ]
     },
     "metadata": {},
     "output_type": "display_data"
    },
    {
     "data": {
      "text/html": [
       "<pre>Processing data in one pass using dense lookup tables.</pre>"
      ],
      "text/plain": [
       "Processing data in one pass using dense lookup tables."
      ]
     },
     "metadata": {},
     "output_type": "display_data"
    },
    {
     "data": {
      "text/html": [
       "<pre>+-------------------------------------+------------------+-----------------+</pre>"
      ],
      "text/plain": [
       "+-------------------------------------+------------------+-----------------+"
      ]
     },
     "metadata": {},
     "output_type": "display_data"
    },
    {
     "data": {
      "text/html": [
       "<pre>| Elapsed Time (Constructing Lookups) | Total % Complete | Items Processed |</pre>"
      ],
      "text/plain": [
       "| Elapsed Time (Constructing Lookups) | Total % Complete | Items Processed |"
      ]
     },
     "metadata": {},
     "output_type": "display_data"
    },
    {
     "data": {
      "text/html": [
       "<pre>+-------------------------------------+------------------+-----------------+</pre>"
      ],
      "text/plain": [
       "+-------------------------------------+------------------+-----------------+"
      ]
     },
     "metadata": {},
     "output_type": "display_data"
    },
    {
     "data": {
      "text/html": [
       "<pre>| 471.93ms                            | 0                | 2               |</pre>"
      ],
      "text/plain": [
       "| 471.93ms                            | 0                | 2               |"
      ]
     },
     "metadata": {},
     "output_type": "display_data"
    },
    {
     "data": {
      "text/html": [
       "<pre>| 2.31s                               | 100              | 9066            |</pre>"
      ],
      "text/plain": [
       "| 2.31s                               | 100              | 9066            |"
      ]
     },
     "metadata": {},
     "output_type": "display_data"
    },
    {
     "data": {
      "text/html": [
       "<pre>+-------------------------------------+------------------+-----------------+</pre>"
      ],
      "text/plain": [
       "+-------------------------------------+------------------+-----------------+"
      ]
     },
     "metadata": {},
     "output_type": "display_data"
    },
    {
     "data": {
      "text/html": [
       "<pre>Finalizing lookup tables.</pre>"
      ],
      "text/plain": [
       "Finalizing lookup tables."
      ]
     },
     "metadata": {},
     "output_type": "display_data"
    },
    {
     "data": {
      "text/html": [
       "<pre>Generating candidate set for working with new users.</pre>"
      ],
      "text/plain": [
       "Generating candidate set for working with new users."
      ]
     },
     "metadata": {},
     "output_type": "display_data"
    },
    {
     "data": {
      "text/html": [
       "<pre>Finished training in 3.37903s</pre>"
      ],
      "text/plain": [
       "Finished training in 3.37903s"
      ]
     },
     "metadata": {},
     "output_type": "display_data"
    }
   ],
   "source": [
    "item_sim_model = graphlab.item_similarity_recommender.create(train_data, \n",
    "user_id='userId', item_id='movieId', target='rating', similarity_type='cosine')"
   ]
  },
  {
   "cell_type": "code",
   "execution_count": 18,
   "metadata": {
    "collapsed": false,
    "scrolled": true
   },
   "outputs": [
    {
     "name": "stdout",
     "output_type": "stream",
     "text": [
      "+--------+---------+----------------+------+\n",
      "| userId | movieId |     score      | rank |\n",
      "+--------+---------+----------------+------+\n",
      "|  600   |  89745  | 0.490436531816 |  1   |\n",
      "|  600   |  60069  | 0.453320911952 |  2   |\n",
      "|  600   |  59315  | 0.445094583716 |  3   |\n",
      "|  600   |  112852 | 0.44244508573  |  4   |\n",
      "|  600   |  78499  | 0.432555902004 |  5   |\n",
      "|  600   |  68157  | 0.427612817287 |  6   |\n",
      "|  600   |  99114  | 0.419165890557 |  7   |\n",
      "|  600   |  122886 | 0.366467228958 |  8   |\n",
      "|  600   |  87232  | 0.36578312942  |  9   |\n",
      "|  600   |  91529  | 0.364648052624 |  10  |\n",
      "|  600   |   7153  | 0.353882830484 |  11  |\n",
      "|  600   |  88125  | 0.351824956281 |  12  |\n",
      "|  600   |  73017  | 0.334589922428 |  13  |\n",
      "|  600   |   8961  | 0.330095423971 |  14  |\n",
      "|  600   |  111759 | 0.327785084929 |  15  |\n",
      "|  600   |  33794  | 0.326745307446 |  16  |\n",
      "|  600   |  84152  | 0.324114901679 |  17  |\n",
      "|  600   |  115713 | 0.318466075829 |  18  |\n",
      "|  600   |  76251  | 0.314700542177 |  19  |\n",
      "|  600   |  77561  | 0.310105235236 |  20  |\n",
      "|  600   |  68358  | 0.308804128851 |  21  |\n",
      "|  600   |  80463  | 0.307667412077 |  22  |\n",
      "|  600   |  81591  | 0.301036032609 |  23  |\n",
      "|  600   |  109487 | 0.296548800809 |  24  |\n",
      "|  600   |  79702  | 0.296314605645 |  25  |\n",
      "|  601   |  55820  | 0.540088472159 |  1   |\n",
      "|  601   |  33794  | 0.481915254956 |  2   |\n",
      "|  601   |  32587  | 0.466727271028 |  3   |\n",
      "|  601   |  51662  | 0.461488876654 |  4   |\n",
      "|  601   |  79132  | 0.443178218344 |  5   |\n",
      "|  601   |  68157  | 0.434735273537 |  6   |\n",
      "|  601   |  57669  | 0.426807467056 |  7   |\n",
      "|  601   |  60069  | 0.426300653945 |  8   |\n",
      "|  601   |  71535  | 0.421312981326 |  9   |\n",
      "|  601   |   8874  | 0.398625276659 |  10  |\n",
      "|  601   |  56367  | 0.392432335926 |  11  |\n",
      "|  601   |   6874  | 0.383096342501 |  12  |\n",
      "|  601   |  54503  | 0.380986053011 |  13  |\n",
      "|  601   |  49272  | 0.372409306143 |  14  |\n",
      "|  601   |  59369  | 0.367604805076 |  15  |\n",
      "|  601   |   5418  | 0.363578839147 |  16  |\n",
      "|  601   |  51255  | 0.358252213053 |  17  |\n",
      "|  601   |  53996  | 0.353420499874 |  18  |\n",
      "|  601   |  54286  | 0.343740607085 |  19  |\n",
      "|  601   |  69122  | 0.327400107747 |  20  |\n",
      "|  601   |   7153  | 0.32736025038  |  21  |\n",
      "|  601   |  68954  | 0.32100302888  |  22  |\n",
      "|  601   |  46578  | 0.317992522665 |  23  |\n",
      "|  601   |   2959  | 0.313647053812 |  24  |\n",
      "|  601   |   4011  | 0.311857765136 |  25  |\n",
      "|  602   |   377   | 0.480841572433 |  1   |\n",
      "|  602   |   454   | 0.468141692553 |  2   |\n",
      "|  602   |   165   | 0.451999589454 |  3   |\n",
      "|  602   |   780   | 0.420386685882 |  4   |\n",
      "|  602   |   586   | 0.399763119775 |  5   |\n",
      "|  602   |    1    | 0.381258246048 |  6   |\n",
      "|  602   |   339   | 0.372926692168 |  7   |\n",
      "|  602   |    39   | 0.336107385713 |  8   |\n",
      "|  602   |   440   | 0.329632401928 |  9   |\n",
      "|  602   |   185   | 0.307933099972 |  10  |\n",
      "|  602   |   648   | 0.266885025557 |  11  |\n",
      "|  602   |   1265  | 0.262054675309 |  12  |\n",
      "|  602   |   317   | 0.260943170666 |  13  |\n",
      "|  602   |   1580  | 0.250887272894 |  14  |\n",
      "|  602   |   1270  | 0.238725293976 |  15  |\n",
      "|  602   |   594   | 0.238115813381 |  16  |\n",
      "|  602   |   161   | 0.22786866371  |  17  |\n",
      "|  602   |   410   | 0.221833136193 |  18  |\n",
      "|  602   |   1198  | 0.218985207783 |  19  |\n",
      "|  602   |   1196  | 0.217854107997 |  20  |\n",
      "|  602   |   368   | 0.210547203703 |  21  |\n",
      "|  602   |   350   | 0.207920978236 |  22  |\n",
      "|  602   |   1097  | 0.207359047823 |  23  |\n",
      "|  602   |   442   | 0.206916120625 |  24  |\n",
      "|  602   |   733   | 0.206283713034 |  25  |\n",
      "|  603   |   1036  | 0.586374937442 |  1   |\n",
      "|  603   |   1270  | 0.58310861232  |  2   |\n",
      "|  603   |   356   | 0.488210219563 |  3   |\n",
      "|  603   |   597   | 0.480847255703 |  4   |\n",
      "|  603   |   377   | 0.465081829251 |  5   |\n",
      "|  603   |   593   | 0.456226140261 |  6   |\n",
      "|  603   |   2115  | 0.45580885128  |  7   |\n",
      "|  603   |    47   | 0.440174469822 |  8   |\n",
      "|  603   |   1387  | 0.399199805239 |  9   |\n",
      "|  603   |   590   | 0.391173095557 |  10  |\n",
      "|  603   |   919   | 0.374400227216 |  11  |\n",
      "|  603   |   2571  | 0.373641724649 |  12  |\n",
      "|  603   |   318   | 0.372148279558 |  13  |\n",
      "|  603   |   2174  | 0.371328921695 |  14  |\n",
      "|  603   |   165   | 0.34998803076  |  15  |\n",
      "|  603   |   2987  | 0.342461798798 |  16  |\n",
      "|  603   |   2628  | 0.340745362273 |  17  |\n",
      "|  603   |   2916  | 0.337412915209 |  18  |\n",
      "|  603   |   2028  | 0.330314488787 |  19  |\n",
      "|  603   |   587   | 0.319274097681 |  20  |\n",
      "|  603   |   2797  | 0.31847599567  |  21  |\n",
      "|  603   |   153   | 0.318233569986 |  22  |\n",
      "|  603   |    10   | 0.317479906898 |  23  |\n",
      "|  603   |   2000  | 0.313211095438 |  24  |\n",
      "|  603   |   454   | 0.307568088958 |  25  |\n",
      "|  604   |   2797  | 0.50575260818  |  1   |\n",
      "|  604   |   3448  | 0.483572971821 |  2   |\n",
      "|  604   |   2115  | 0.418047910929 |  3   |\n",
      "|  604   |   2194  | 0.390571045876 |  4   |\n",
      "|  604   |   2174  | 0.380788460374 |  5   |\n",
      "|  604   |   2000  | 0.327384063601 |  6   |\n",
      "|  604   |   3361  | 0.325465008616 |  7   |\n",
      "|  604   |   3255  | 0.309328305721 |  8   |\n",
      "|  604   |   2987  | 0.303314512968 |  9   |\n",
      "|  604   |   3253  | 0.298335206509 |  10  |\n",
      "|  604   |   3108  | 0.292982578278 |  11  |\n",
      "|  604   |   2406  | 0.284668964148 |  12  |\n",
      "|  604   |   1266  | 0.278568845987 |  13  |\n",
      "|  604   |   2478  | 0.267230784893 |  14  |\n",
      "|  604   |   1396  | 0.264176881313 |  15  |\n",
      "|  604   |   2918  | 0.261525887251 |  16  |\n",
      "|  604   |   2100  | 0.259987142682 |  17  |\n",
      "|  604   |    47   | 0.255863136053 |  18  |\n",
      "|  604   |   2463  | 0.253891184926 |  19  |\n",
      "|  604   |   3033  | 0.252497977018 |  20  |\n",
      "|  604   |   377   | 0.250734263659 |  21  |\n",
      "|  604   |   1036  | 0.244696462154 |  22  |\n",
      "|  604   |   3210  | 0.243240764737 |  23  |\n",
      "|  604   |   3039  | 0.243225124478 |  24  |\n",
      "|  604   |   1304  | 0.241055011749 |  25  |\n",
      "|  605   |   1580  | 0.199229238508 |  1   |\n",
      "|  605   |   1198  | 0.190067159093 |  2   |\n",
      "|  605   |   919   | 0.185769350496 |  3   |\n",
      "|  605   |   2194  | 0.183266787698 |  4   |\n",
      "|  605   |   1266  | 0.180891104094 |  5   |\n",
      "|  605   |   2987  | 0.170927935116 |  6   |\n",
      "|  605   |   1036  | 0.167744389661 |  7   |\n",
      "|  605   |   1252  | 0.162607741029 |  8   |\n",
      "|  605   |   3152  | 0.155266808291 |  9   |\n",
      "|  605   |   2174  | 0.148332178593 |  10  |\n",
      "|  605   |   1197  | 0.14806781167  |  11  |\n",
      "|  605   |   260   | 0.145415650489 |  12  |\n",
      "|  605   |   1234  | 0.143034647204 |  13  |\n",
      "|  605   |   1923  | 0.141457571181 |  14  |\n",
      "|  605   |   296   | 0.139096573779 |  15  |\n",
      "|  605   |   3504  | 0.137205394509 |  16  |\n",
      "|  605   |   908   | 0.134912332899 |  17  |\n",
      "|  605   |   2973  | 0.133670731186 |  18  |\n",
      "|  605   |   898   | 0.132273475147 |  19  |\n",
      "|  605   |   1240  | 0.131253529741 |  20  |\n",
      "|  605   |   1307  | 0.130482931977 |  21  |\n",
      "|  605   |   1179  | 0.126726341602 |  22  |\n",
      "|  605   |   1193  | 0.124058279484 |  23  |\n",
      "|  605   |   1210  | 0.12217263117  |  24  |\n",
      "|  605   |   500   | 0.122089547069 |  25  |\n",
      "|  606   |   1270  | 0.477979461352 |  1   |\n",
      "|  606   |   1213  | 0.472700410088 |  2   |\n",
      "|  606   |   1265  | 0.423637016614 |  3   |\n",
      "|  606   |   1193  | 0.419205747048 |  4   |\n",
      "|  606   |   1198  | 0.384900308649 |  5   |\n",
      "|  606   |   4027  | 0.375119717916 |  6   |\n",
      "|  606   |   1732  | 0.337900754809 |  7   |\n",
      "|  606   |   4226  | 0.322788227598 |  8   |\n",
      "|  606   |   1252  | 0.317177874843 |  9   |\n",
      "|  606   |   1266  | 0.315856477618 |  10  |\n",
      "|  606   |   923   | 0.310277794798 |  11  |\n",
      "|  606   |   912   | 0.302942810456 |  12  |\n",
      "|  606   |   608   | 0.292535543442 |  13  |\n",
      "|  606   |   1196  | 0.29104731977  |  14  |\n",
      "|  606   |   1617  | 0.286975702643 |  15  |\n",
      "|  606   |   1222  | 0.283481044571 |  16  |\n",
      "|  606   |   260   | 0.282959973812 |  17  |\n",
      "|  606   |   2997  | 0.279384923975 |  18  |\n",
      "|  606   |    47   | 0.273276996613 |  19  |\n",
      "|  606   |   4993  | 0.271331173182 |  20  |\n",
      "|  606   |   2329  | 0.270287523667 |  21  |\n",
      "|  606   |   111   | 0.266612876455 |  22  |\n",
      "|  606   |   1923  | 0.262768867612 |  23  |\n",
      "|  606   |   1259  | 0.256429845095 |  24  |\n",
      "|  606   |   1288  | 0.256312768658 |  25  |\n",
      "|  607   |   2028  | 0.28273719619  |  1   |\n",
      "|  607   |   1387  | 0.272403640825 |  2   |\n",
      "|  607   |   2858  | 0.23680372093  |  3   |\n",
      "|  607   |   1721  | 0.215055950073 |  4   |\n",
      "|  607   |   919   | 0.201732587479 |  5   |\n",
      "|  607   |   539   | 0.157942701559 |  6   |\n",
      "|  607   |   541   | 0.144457486391 |  7   |\n",
      "|  607   |   4995  | 0.139366987997 |  8   |\n",
      "|  607   |   357   | 0.135664292605 |  9   |\n",
      "|  607   |   1259  | 0.131698800473 |  10  |\n",
      "|  607   |   1617  | 0.128809176508 |  11  |\n",
      "|  607   |   2997  | 0.128137212726 |  12  |\n",
      "|  607   |   1380  | 0.126333776486 |  13  |\n",
      "|  607   |   1394  | 0.119063720212 |  14  |\n",
      "|  607   |   7361  | 0.116346576314 |  15  |\n",
      "|  607   |   1193  | 0.116117392965 |  16  |\n",
      "|  607   |    34   | 0.114721907106 |  17  |\n",
      "|  607   |   3897  | 0.113535427656 |  18  |\n",
      "|  607   |   2291  | 0.112365161786 |  19  |\n",
      "|  607   |  44191  | 0.106516137614 |  20  |\n",
      "|  607   |    39   | 0.106229986742 |  21  |\n",
      "|  607   |   474   | 0.104472343201 |  22  |\n",
      "|  607   |   1288  | 0.103798964264 |  23  |\n",
      "|  607   |   1307  | 0.103581963155 |  24  |\n",
      "|  607   |   6934  | 0.103580238808 |  25  |\n",
      "+--------+---------+----------------+------+\n",
      "[375 rows x 4 columns]\n",
      "\n"
     ]
    }
   ],
   "source": [
    "item_sim_recomm = item_sim_model.recommend(users=range(600,615),k=25)\n",
    "item_sim_recomm.print_rows(num_rows=200)"
   ]
  },
  {
   "cell_type": "markdown",
   "metadata": {},
   "source": [
    "## Content based recommendations"
   ]
  },
  {
   "cell_type": "code",
   "execution_count": 21,
   "metadata": {
    "collapsed": false,
    "scrolled": false
   },
   "outputs": [
    {
     "name": "stdout",
     "output_type": "stream",
     "text": [
      "WARNING: The ItemContentRecommender model is still in beta.\n",
      "WARNING: This feature transformer is still in beta, and some interpretation rules may change in the future.\n",
      "('Applying transform:\\n', Class             : AutoVectorizer\n",
      "\n",
      "Model Fields\n",
      "------------\n",
      "Features          : ['movieId', 'year', '(no genres listed)', 'Action', 'Adventure', 'Animation', 'Children', 'Comedy', 'Crime', 'Documentary', 'Drama', 'Fantasy', 'Film-Noir', 'Horror', 'IMAX', 'Musical', 'Mystery', 'Romance', 'Sci-Fi', 'Thriller', 'War', 'Western']\n",
      "Excluded Features : ['title']\n",
      "\n",
      "Column              Type  Interpretation  Transforms   Output Type\n",
      "------------------  ----  --------------  -----------  -----------\n",
      "movieId             int   numerical       None         int        \n",
      "year                int   numerical       None         int        \n",
      "(no genres listed)  int   categorical     astype(str)  str        \n",
      "Action              int   categorical     astype(str)  str        \n",
      "Adventure           int   categorical     astype(str)  str        \n",
      "Animation           int   categorical     astype(str)  str        \n",
      "Children            int   categorical     astype(str)  str        \n",
      "Comedy              int   categorical     astype(str)  str        \n",
      "Crime               int   categorical     astype(str)  str        \n",
      "Documentary         int   categorical     astype(str)  str        \n",
      "Drama               int   categorical     astype(str)  str        \n",
      "Fantasy             int   categorical     astype(str)  str        \n",
      "Film-Noir           int   categorical     astype(str)  str        \n",
      "Horror              int   categorical     astype(str)  str        \n",
      "IMAX                int   categorical     astype(str)  str        \n",
      "Musical             int   categorical     astype(str)  str        \n",
      "Mystery             int   categorical     astype(str)  str        \n",
      "Romance             int   categorical     astype(str)  str        \n",
      "Sci-Fi              int   categorical     astype(str)  str        \n",
      "Thriller            int   categorical     astype(str)  str        \n",
      "War                 int   categorical     astype(str)  str        \n",
      "Western             int   categorical     astype(str)  str        \n",
      "\n",
      ")"
     ]
    },
    {
     "data": {
      "text/html": [
       "<pre>Recsys training: model = item_content_recommender</pre>"
      ],
      "text/plain": [
       "Recsys training: model = item_content_recommender"
      ]
     },
     "metadata": {},
     "output_type": "display_data"
    },
    {
     "data": {
      "text/html": [
       "<pre>Starting brute force nearest neighbors model training.</pre>"
      ],
      "text/plain": [
       "Starting brute force nearest neighbors model training."
      ]
     },
     "metadata": {},
     "output_type": "display_data"
    },
    {
     "data": {
      "text/html": [
       "<pre>Starting pairwise querying.</pre>"
      ],
      "text/plain": [
       "Starting pairwise querying."
      ]
     },
     "metadata": {},
     "output_type": "display_data"
    },
    {
     "data": {
      "text/html": [
       "<pre>+--------------+---------+-------------+--------------+</pre>"
      ],
      "text/plain": [
       "+--------------+---------+-------------+--------------+"
      ]
     },
     "metadata": {},
     "output_type": "display_data"
    },
    {
     "data": {
      "text/html": [
       "<pre>| Query points | # Pairs | % Complete. | Elapsed Time |</pre>"
      ],
      "text/plain": [
       "| Query points | # Pairs | % Complete. | Elapsed Time |"
      ]
     },
     "metadata": {},
     "output_type": "display_data"
    },
    {
     "data": {
      "text/html": [
       "<pre>+--------------+---------+-------------+--------------+</pre>"
      ],
      "text/plain": [
       "+--------------+---------+-------------+--------------+"
      ]
     },
     "metadata": {},
     "output_type": "display_data"
    },
    {
     "data": {
      "text/html": [
       "<pre>| 1            | 9125    | 0.0109589   | 59.871ms     |</pre>"
      ],
      "text/plain": [
       "| 1            | 9125    | 0.0109589   | 59.871ms     |"
      ]
     },
     "metadata": {},
     "output_type": "display_data"
    },
    {
     "data": {
      "text/html": [
       "<pre>| 181          | 1651625 | 1.98356     | 1.06s        |</pre>"
      ],
      "text/plain": [
       "| 181          | 1651625 | 1.98356     | 1.06s        |"
      ]
     },
     "metadata": {},
     "output_type": "display_data"
    },
    {
     "data": {
      "text/html": [
       "<pre>| 371          | 3385375 | 4.06575     | 2.06s        |</pre>"
      ],
      "text/plain": [
       "| 371          | 3385375 | 4.06575     | 2.06s        |"
      ]
     },
     "metadata": {},
     "output_type": "display_data"
    },
    {
     "data": {
      "text/html": [
       "<pre>| 577          | 5265125 | 6.32329     | 3.06s        |</pre>"
      ],
      "text/plain": [
       "| 577          | 5265125 | 6.32329     | 3.06s        |"
      ]
     },
     "metadata": {},
     "output_type": "display_data"
    },
    {
     "data": {
      "text/html": [
       "<pre>| 779          | 7108375 | 8.53699     | 4.06s        |</pre>"
      ],
      "text/plain": [
       "| 779          | 7108375 | 8.53699     | 4.06s        |"
      ]
     },
     "metadata": {},
     "output_type": "display_data"
    },
    {
     "data": {
      "text/html": [
       "<pre>| 987          | 9006375 | 10.8164     | 5.06s        |</pre>"
      ],
      "text/plain": [
       "| 987          | 9006375 | 10.8164     | 5.06s        |"
      ]
     },
     "metadata": {},
     "output_type": "display_data"
    },
    {
     "data": {
      "text/html": [
       "<pre>| 1194         | 1.1e+07 | 13.0849     | 6.06s        |</pre>"
      ],
      "text/plain": [
       "| 1194         | 1.1e+07 | 13.0849     | 6.06s        |"
      ]
     },
     "metadata": {},
     "output_type": "display_data"
    },
    {
     "data": {
      "text/html": [
       "<pre>| 1404         | 1.3e+07 | 15.3863     | 7.06s        |</pre>"
      ],
      "text/plain": [
       "| 1404         | 1.3e+07 | 15.3863     | 7.06s        |"
      ]
     },
     "metadata": {},
     "output_type": "display_data"
    },
    {
     "data": {
      "text/html": [
       "<pre>| 1610         | 1.5e+07 | 17.6438     | 8.06s        |</pre>"
      ],
      "text/plain": [
       "| 1610         | 1.5e+07 | 17.6438     | 8.06s        |"
      ]
     },
     "metadata": {},
     "output_type": "display_data"
    },
    {
     "data": {
      "text/html": [
       "<pre>| 1822         | 1.7e+07 | 19.9671     | 9.06s        |</pre>"
      ],
      "text/plain": [
       "| 1822         | 1.7e+07 | 19.9671     | 9.06s        |"
      ]
     },
     "metadata": {},
     "output_type": "display_data"
    },
    {
     "data": {
      "text/html": [
       "<pre>| 2032         | 1.9e+07 | 22.2685     | 10.06s       |</pre>"
      ],
      "text/plain": [
       "| 2032         | 1.9e+07 | 22.2685     | 10.06s       |"
      ]
     },
     "metadata": {},
     "output_type": "display_data"
    },
    {
     "data": {
      "text/html": [
       "<pre>| 2241         | 2e+07   | 24.5589     | 11.06s       |</pre>"
      ],
      "text/plain": [
       "| 2241         | 2e+07   | 24.5589     | 11.06s       |"
      ]
     },
     "metadata": {},
     "output_type": "display_data"
    },
    {
     "data": {
      "text/html": [
       "<pre>| 2446         | 2.2e+07 | 26.8055     | 12.06s       |</pre>"
      ],
      "text/plain": [
       "| 2446         | 2.2e+07 | 26.8055     | 12.06s       |"
      ]
     },
     "metadata": {},
     "output_type": "display_data"
    },
    {
     "data": {
      "text/html": [
       "<pre>| 2654         | 2.4e+07 | 29.0849     | 13.06s       |</pre>"
      ],
      "text/plain": [
       "| 2654         | 2.4e+07 | 29.0849     | 13.06s       |"
      ]
     },
     "metadata": {},
     "output_type": "display_data"
    },
    {
     "data": {
      "text/html": [
       "<pre>| 2866         | 2.6e+07 | 31.4082     | 14.06s       |</pre>"
      ],
      "text/plain": [
       "| 2866         | 2.6e+07 | 31.4082     | 14.06s       |"
      ]
     },
     "metadata": {},
     "output_type": "display_data"
    },
    {
     "data": {
      "text/html": [
       "<pre>| 3079         | 2.8e+07 | 33.7425     | 15.06s       |</pre>"
      ],
      "text/plain": [
       "| 3079         | 2.8e+07 | 33.7425     | 15.06s       |"
      ]
     },
     "metadata": {},
     "output_type": "display_data"
    },
    {
     "data": {
      "text/html": [
       "<pre>| 3293         | 3e+07   | 36.0877     | 16.06s       |</pre>"
      ],
      "text/plain": [
       "| 3293         | 3e+07   | 36.0877     | 16.06s       |"
      ]
     },
     "metadata": {},
     "output_type": "display_data"
    },
    {
     "data": {
      "text/html": [
       "<pre>| 3504         | 3.2e+07 | 38.4        | 17.06s       |</pre>"
      ],
      "text/plain": [
       "| 3504         | 3.2e+07 | 38.4        | 17.06s       |"
      ]
     },
     "metadata": {},
     "output_type": "display_data"
    },
    {
     "data": {
      "text/html": [
       "<pre>| 3719         | 3.4e+07 | 40.7562     | 18.06s       |</pre>"
      ],
      "text/plain": [
       "| 3719         | 3.4e+07 | 40.7562     | 18.06s       |"
      ]
     },
     "metadata": {},
     "output_type": "display_data"
    },
    {
     "data": {
      "text/html": [
       "<pre>| 3935         | 3.6e+07 | 43.1233     | 19.06s       |</pre>"
      ],
      "text/plain": [
       "| 3935         | 3.6e+07 | 43.1233     | 19.06s       |"
      ]
     },
     "metadata": {},
     "output_type": "display_data"
    },
    {
     "data": {
      "text/html": [
       "<pre>| 4146         | 3.8e+07 | 45.4356     | 20.06s       |</pre>"
      ],
      "text/plain": [
       "| 4146         | 3.8e+07 | 45.4356     | 20.06s       |"
      ]
     },
     "metadata": {},
     "output_type": "display_data"
    },
    {
     "data": {
      "text/html": [
       "<pre>| 4357         | 4e+07   | 47.7479     | 21.06s       |</pre>"
      ],
      "text/plain": [
       "| 4357         | 4e+07   | 47.7479     | 21.06s       |"
      ]
     },
     "metadata": {},
     "output_type": "display_data"
    },
    {
     "data": {
      "text/html": [
       "<pre>| 4569         | 4.2e+07 | 50.0712     | 22.06s       |</pre>"
      ],
      "text/plain": [
       "| 4569         | 4.2e+07 | 50.0712     | 22.06s       |"
      ]
     },
     "metadata": {},
     "output_type": "display_data"
    },
    {
     "data": {
      "text/html": [
       "<pre>| 4784         | 4.4e+07 | 52.4274     | 23.06s       |</pre>"
      ],
      "text/plain": [
       "| 4784         | 4.4e+07 | 52.4274     | 23.06s       |"
      ]
     },
     "metadata": {},
     "output_type": "display_data"
    },
    {
     "data": {
      "text/html": [
       "<pre>| 4992         | 4.6e+07 | 54.7068     | 24.06s       |</pre>"
      ],
      "text/plain": [
       "| 4992         | 4.6e+07 | 54.7068     | 24.06s       |"
      ]
     },
     "metadata": {},
     "output_type": "display_data"
    },
    {
     "data": {
      "text/html": [
       "<pre>| 5202         | 4.7e+07 | 57.0082     | 25.06s       |</pre>"
      ],
      "text/plain": [
       "| 5202         | 4.7e+07 | 57.0082     | 25.06s       |"
      ]
     },
     "metadata": {},
     "output_type": "display_data"
    },
    {
     "data": {
      "text/html": [
       "<pre>| 5412         | 4.9e+07 | 59.3096     | 26.06s       |</pre>"
      ],
      "text/plain": [
       "| 5412         | 4.9e+07 | 59.3096     | 26.06s       |"
      ]
     },
     "metadata": {},
     "output_type": "display_data"
    },
    {
     "data": {
      "text/html": [
       "<pre>| 5621         | 5.1e+07 | 61.6        | 27.06s       |</pre>"
      ],
      "text/plain": [
       "| 5621         | 5.1e+07 | 61.6        | 27.06s       |"
      ]
     },
     "metadata": {},
     "output_type": "display_data"
    },
    {
     "data": {
      "text/html": [
       "<pre>| 5830         | 5.3e+07 | 63.8904     | 28.06s       |</pre>"
      ],
      "text/plain": [
       "| 5830         | 5.3e+07 | 63.8904     | 28.06s       |"
      ]
     },
     "metadata": {},
     "output_type": "display_data"
    },
    {
     "data": {
      "text/html": [
       "<pre>| 6008         | 5.5e+07 | 65.8411     | 29.06s       |</pre>"
      ],
      "text/plain": [
       "| 6008         | 5.5e+07 | 65.8411     | 29.06s       |"
      ]
     },
     "metadata": {},
     "output_type": "display_data"
    },
    {
     "data": {
      "text/html": [
       "<pre>| 6177         | 5.6e+07 | 67.6932     | 30.06s       |</pre>"
      ],
      "text/plain": [
       "| 6177         | 5.6e+07 | 67.6932     | 30.06s       |"
      ]
     },
     "metadata": {},
     "output_type": "display_data"
    },
    {
     "data": {
      "text/html": [
       "<pre>| 6388         | 5.8e+07 | 70.0055     | 31.06s       |</pre>"
      ],
      "text/plain": [
       "| 6388         | 5.8e+07 | 70.0055     | 31.06s       |"
      ]
     },
     "metadata": {},
     "output_type": "display_data"
    },
    {
     "data": {
      "text/html": [
       "<pre>| 6583         | 6e+07   | 72.1425     | 32.06s       |</pre>"
      ],
      "text/plain": [
       "| 6583         | 6e+07   | 72.1425     | 32.06s       |"
      ]
     },
     "metadata": {},
     "output_type": "display_data"
    },
    {
     "data": {
      "text/html": [
       "<pre>| 6787         | 6.2e+07 | 74.3781     | 33.06s       |</pre>"
      ],
      "text/plain": [
       "| 6787         | 6.2e+07 | 74.3781     | 33.06s       |"
      ]
     },
     "metadata": {},
     "output_type": "display_data"
    },
    {
     "data": {
      "text/html": [
       "<pre>| 6987         | 6.4e+07 | 76.5699     | 34.06s       |</pre>"
      ],
      "text/plain": [
       "| 6987         | 6.4e+07 | 76.5699     | 34.06s       |"
      ]
     },
     "metadata": {},
     "output_type": "display_data"
    },
    {
     "data": {
      "text/html": [
       "<pre>| 7187         | 6.6e+07 | 78.7616     | 35.06s       |</pre>"
      ],
      "text/plain": [
       "| 7187         | 6.6e+07 | 78.7616     | 35.06s       |"
      ]
     },
     "metadata": {},
     "output_type": "display_data"
    },
    {
     "data": {
      "text/html": [
       "<pre>| 7390         | 6.7e+07 | 80.9863     | 36.06s       |</pre>"
      ],
      "text/plain": [
       "| 7390         | 6.7e+07 | 80.9863     | 36.06s       |"
      ]
     },
     "metadata": {},
     "output_type": "display_data"
    },
    {
     "data": {
      "text/html": [
       "<pre>| 7598         | 6.9e+07 | 83.2658     | 37.06s       |</pre>"
      ],
      "text/plain": [
       "| 7598         | 6.9e+07 | 83.2658     | 37.06s       |"
      ]
     },
     "metadata": {},
     "output_type": "display_data"
    },
    {
     "data": {
      "text/html": [
       "<pre>| 7812         | 7.1e+07 | 85.611      | 38.06s       |</pre>"
      ],
      "text/plain": [
       "| 7812         | 7.1e+07 | 85.611      | 38.06s       |"
      ]
     },
     "metadata": {},
     "output_type": "display_data"
    },
    {
     "data": {
      "text/html": [
       "<pre>| 8027         | 7.3e+07 | 87.9671     | 39.06s       |</pre>"
      ],
      "text/plain": [
       "| 8027         | 7.3e+07 | 87.9671     | 39.06s       |"
      ]
     },
     "metadata": {},
     "output_type": "display_data"
    },
    {
     "data": {
      "text/html": [
       "<pre>| 8240         | 7.5e+07 | 90.3014     | 40.06s       |</pre>"
      ],
      "text/plain": [
       "| 8240         | 7.5e+07 | 90.3014     | 40.06s       |"
      ]
     },
     "metadata": {},
     "output_type": "display_data"
    },
    {
     "data": {
      "text/html": [
       "<pre>| 8451         | 7.7e+07 | 92.6137     | 41.06s       |</pre>"
      ],
      "text/plain": [
       "| 8451         | 7.7e+07 | 92.6137     | 41.06s       |"
      ]
     },
     "metadata": {},
     "output_type": "display_data"
    },
    {
     "data": {
      "text/html": [
       "<pre>| 8663         | 7.9e+07 | 94.937      | 42.06s       |</pre>"
      ],
      "text/plain": [
       "| 8663         | 7.9e+07 | 94.937      | 42.06s       |"
      ]
     },
     "metadata": {},
     "output_type": "display_data"
    },
    {
     "data": {
      "text/html": [
       "<pre>| 8868         | 8.1e+07 | 97.1836     | 43.06s       |</pre>"
      ],
      "text/plain": [
       "| 8868         | 8.1e+07 | 97.1836     | 43.06s       |"
      ]
     },
     "metadata": {},
     "output_type": "display_data"
    },
    {
     "data": {
      "text/html": [
       "<pre>| 9058         | 8.3e+07 | 99.2658     | 44.07s       |</pre>"
      ],
      "text/plain": [
       "| 9058         | 8.3e+07 | 99.2658     | 44.07s       |"
      ]
     },
     "metadata": {},
     "output_type": "display_data"
    },
    {
     "data": {
      "text/html": [
       "<pre>| Done         |         | 100         | 44.40s       |</pre>"
      ],
      "text/plain": [
       "| Done         |         | 100         | 44.40s       |"
      ]
     },
     "metadata": {},
     "output_type": "display_data"
    },
    {
     "data": {
      "text/html": [
       "<pre>+--------------+---------+-------------+--------------+</pre>"
      ],
      "text/plain": [
       "+--------------+---------+-------------+--------------+"
      ]
     },
     "metadata": {},
     "output_type": "display_data"
    },
    {
     "data": {
      "text/html": [
       "<pre>Preparing data set.</pre>"
      ],
      "text/plain": [
       "Preparing data set."
      ]
     },
     "metadata": {},
     "output_type": "display_data"
    },
    {
     "data": {
      "text/html": [
       "<pre>    Data has 0 observations with 0 users and 9123 items.</pre>"
      ],
      "text/plain": [
       "    Data has 0 observations with 0 users and 9123 items."
      ]
     },
     "metadata": {},
     "output_type": "display_data"
    },
    {
     "data": {
      "text/html": [
       "<pre>    Data prepared in: 2.92077s</pre>"
      ],
      "text/plain": [
       "    Data prepared in: 2.92077s"
      ]
     },
     "metadata": {},
     "output_type": "display_data"
    },
    {
     "data": {
      "text/html": [
       "<pre>Loading user-provided nearest items.</pre>"
      ],
      "text/plain": [
       "Loading user-provided nearest items."
      ]
     },
     "metadata": {},
     "output_type": "display_data"
    },
    {
     "data": {
      "text/html": [
       "<pre>Generating candidate set for working with new users.</pre>"
      ],
      "text/plain": [
       "Generating candidate set for working with new users."
      ]
     },
     "metadata": {},
     "output_type": "display_data"
    },
    {
     "data": {
      "text/html": [
       "<pre>Finished training in 0.26799s</pre>"
      ],
      "text/plain": [
       "Finished training in 0.26799s"
      ]
     },
     "metadata": {},
     "output_type": "display_data"
    },
    {
     "name": "stdout",
     "output_type": "stream",
     "text": [
      "\n",
      "Defaulting to brute force instead of ball tree because there are multiple distance components.\n"
     ]
    }
   ],
   "source": [
    "Movies=pd.read_csv(\"movies.csv\")\n",
    "\n",
    "train_data = graphlab.SFrame(Movies)\n",
    "\n",
    "content_based =  graphlab.recommender.item_content_recommender.create(item_data = train_data,item_id= 'title')"
   ]
  },
  {
   "cell_type": "code",
   "execution_count": 24,
   "metadata": {
    "collapsed": false
   },
   "outputs": [
    {
     "data": {
      "text/html": [
       "<div style=\"max-height:1000px;max-width:1500px;overflow:auto;\"><table frame=\"box\" rules=\"cols\">\n",
       "    <tr>\n",
       "        <th style=\"padding-left: 1em; padding-right: 1em; text-align: center\">title</th>\n",
       "        <th style=\"padding-left: 1em; padding-right: 1em; text-align: center\">similar</th>\n",
       "        <th style=\"padding-left: 1em; padding-right: 1em; text-align: center\">score</th>\n",
       "        <th style=\"padding-left: 1em; padding-right: 1em; text-align: center\">rank</th>\n",
       "    </tr>\n",
       "    <tr>\n",
       "        <td style=\"padding-left: 1em; padding-right: 1em; text-align: center; vertical-align: top\">Toy Story (1995)</td>\n",
       "        <td style=\"padding-left: 1em; padding-right: 1em; text-align: center; vertical-align: top\">Antz (1998)</td>\n",
       "        <td style=\"padding-left: 1em; padding-right: 1em; text-align: center; vertical-align: top\">0.999719560146</td>\n",
       "        <td style=\"padding-left: 1em; padding-right: 1em; text-align: center; vertical-align: top\">1</td>\n",
       "    </tr>\n",
       "    <tr>\n",
       "        <td style=\"padding-left: 1em; padding-right: 1em; text-align: center; vertical-align: top\">Toy Story (1995)</td>\n",
       "        <td style=\"padding-left: 1em; padding-right: 1em; text-align: center; vertical-align: top\">Toy Story 2 (1999)</td>\n",
       "        <td style=\"padding-left: 1em; padding-right: 1em; text-align: center; vertical-align: top\">0.999492645264</td>\n",
       "        <td style=\"padding-left: 1em; padding-right: 1em; text-align: center; vertical-align: top\">2</td>\n",
       "    </tr>\n",
       "    <tr>\n",
       "        <td style=\"padding-left: 1em; padding-right: 1em; text-align: center; vertical-align: top\">Toy Story (1995)</td>\n",
       "        <td style=\"padding-left: 1em; padding-right: 1em; text-align: center; vertical-align: top\">Adventures of Rocky and<br>Bullwinkle, The (2000) ...</td>\n",
       "        <td style=\"padding-left: 1em; padding-right: 1em; text-align: center; vertical-align: top\">0.999237179756</td>\n",
       "        <td style=\"padding-left: 1em; padding-right: 1em; text-align: center; vertical-align: top\">3</td>\n",
       "    </tr>\n",
       "    <tr>\n",
       "        <td style=\"padding-left: 1em; padding-right: 1em; text-align: center; vertical-align: top\">Toy Story (1995)</td>\n",
       "        <td style=\"padding-left: 1em; padding-right: 1em; text-align: center; vertical-align: top\">Emperor's New Groove, The<br>(2000) ...</td>\n",
       "        <td style=\"padding-left: 1em; padding-right: 1em; text-align: center; vertical-align: top\">0.99918204546</td>\n",
       "        <td style=\"padding-left: 1em; padding-right: 1em; text-align: center; vertical-align: top\">4</td>\n",
       "    </tr>\n",
       "    <tr>\n",
       "        <td style=\"padding-left: 1em; padding-right: 1em; text-align: center; vertical-align: top\">Toy Story (1995)</td>\n",
       "        <td style=\"padding-left: 1em; padding-right: 1em; text-align: center; vertical-align: top\">Monsters, Inc. (2001)</td>\n",
       "        <td style=\"padding-left: 1em; padding-right: 1em; text-align: center; vertical-align: top\">0.99880695343</td>\n",
       "        <td style=\"padding-left: 1em; padding-right: 1em; text-align: center; vertical-align: top\">5</td>\n",
       "    </tr>\n",
       "    <tr>\n",
       "        <td style=\"padding-left: 1em; padding-right: 1em; text-align: center; vertical-align: top\">Toy Story (1995)</td>\n",
       "        <td style=\"padding-left: 1em; padding-right: 1em; text-align: center; vertical-align: top\">Shrek the Third (2007)</td>\n",
       "        <td style=\"padding-left: 1em; padding-right: 1em; text-align: center; vertical-align: top\">0.960733532906</td>\n",
       "        <td style=\"padding-left: 1em; padding-right: 1em; text-align: center; vertical-align: top\">6</td>\n",
       "    </tr>\n",
       "    <tr>\n",
       "        <td style=\"padding-left: 1em; padding-right: 1em; text-align: center; vertical-align: top\">Toy Story (1995)</td>\n",
       "        <td style=\"padding-left: 1em; padding-right: 1em; text-align: center; vertical-align: top\">Tale of Despereaux, The<br>(2008) ...</td>\n",
       "        <td style=\"padding-left: 1em; padding-right: 1em; text-align: center; vertical-align: top\">0.955465495586</td>\n",
       "        <td style=\"padding-left: 1em; padding-right: 1em; text-align: center; vertical-align: top\">7</td>\n",
       "    </tr>\n",
       "    <tr>\n",
       "        <td style=\"padding-left: 1em; padding-right: 1em; text-align: center; vertical-align: top\">Toy Story (1995)</td>\n",
       "        <td style=\"padding-left: 1em; padding-right: 1em; text-align: center; vertical-align: top\">Space Jam (1996)</td>\n",
       "        <td style=\"padding-left: 1em; padding-right: 1em; text-align: center; vertical-align: top\">0.954517900944</td>\n",
       "        <td style=\"padding-left: 1em; padding-right: 1em; text-align: center; vertical-align: top\">8</td>\n",
       "    </tr>\n",
       "    <tr>\n",
       "        <td style=\"padding-left: 1em; padding-right: 1em; text-align: center; vertical-align: top\">Toy Story (1995)</td>\n",
       "        <td style=\"padding-left: 1em; padding-right: 1em; text-align: center; vertical-align: top\">Borrowers, The (1997)</td>\n",
       "        <td style=\"padding-left: 1em; padding-right: 1em; text-align: center; vertical-align: top\">0.954391360283</td>\n",
       "        <td style=\"padding-left: 1em; padding-right: 1em; text-align: center; vertical-align: top\">9</td>\n",
       "    </tr>\n",
       "    <tr>\n",
       "        <td style=\"padding-left: 1em; padding-right: 1em; text-align: center; vertical-align: top\">Toy Story (1995)</td>\n",
       "        <td style=\"padding-left: 1em; padding-right: 1em; text-align: center; vertical-align: top\">Bug's Life, A (1998)</td>\n",
       "        <td style=\"padding-left: 1em; padding-right: 1em; text-align: center; vertical-align: top\">0.954257249832</td>\n",
       "        <td style=\"padding-left: 1em; padding-right: 1em; text-align: center; vertical-align: top\">10</td>\n",
       "    </tr>\n",
       "</table>\n",
       "[10 rows x 4 columns]<br/>\n",
       "</div>"
      ],
      "text/plain": [
       "Columns:\n",
       "\ttitle\tstr\n",
       "\tsimilar\tstr\n",
       "\tscore\tfloat\n",
       "\trank\tint\n",
       "\n",
       "Rows: 10\n",
       "\n",
       "Data:\n",
       "+------------------+--------------------------------+----------------+------+\n",
       "|      title       |            similar             |     score      | rank |\n",
       "+------------------+--------------------------------+----------------+------+\n",
       "| Toy Story (1995) |          Antz (1998)           | 0.999719560146 |  1   |\n",
       "| Toy Story (1995) |       Toy Story 2 (1999)       | 0.999492645264 |  2   |\n",
       "| Toy Story (1995) | Adventures of Rocky and Bu...  | 0.999237179756 |  3   |\n",
       "| Toy Story (1995) | Emperor's New Groove, The ...  | 0.99918204546  |  4   |\n",
       "| Toy Story (1995) |     Monsters, Inc. (2001)      | 0.99880695343  |  5   |\n",
       "| Toy Story (1995) |     Shrek the Third (2007)     | 0.960733532906 |  6   |\n",
       "| Toy Story (1995) | Tale of Despereaux, The (2008) | 0.955465495586 |  7   |\n",
       "| Toy Story (1995) |        Space Jam (1996)        | 0.954517900944 |  8   |\n",
       "| Toy Story (1995) |     Borrowers, The (1997)      | 0.954391360283 |  9   |\n",
       "| Toy Story (1995) |      Bug's Life, A (1998)      | 0.954257249832 |  10  |\n",
       "+------------------+--------------------------------+----------------+------+\n",
       "[10 rows x 4 columns]"
      ]
     },
     "execution_count": 24,
     "metadata": {},
     "output_type": "execute_result"
    }
   ],
   "source": [
    "content_based.get_similar_items([\"Toy Story (1995)\"])"
   ]
  },
  {
   "cell_type": "code",
   "execution_count": 30,
   "metadata": {
    "collapsed": false
   },
   "outputs": [
    {
     "data": {
      "text/html": [
       "<div style=\"max-height:1000px;max-width:1500px;overflow:auto;\"><table frame=\"box\" rules=\"cols\">\n",
       "    <tr>\n",
       "        <th style=\"padding-left: 1em; padding-right: 1em; text-align: center\">title</th>\n",
       "        <th style=\"padding-left: 1em; padding-right: 1em; text-align: center\">similar</th>\n",
       "        <th style=\"padding-left: 1em; padding-right: 1em; text-align: center\">score</th>\n",
       "        <th style=\"padding-left: 1em; padding-right: 1em; text-align: center\">rank</th>\n",
       "    </tr>\n",
       "    <tr>\n",
       "        <td style=\"padding-left: 1em; padding-right: 1em; text-align: center; vertical-align: top\">Monsters, Inc. (2001)</td>\n",
       "        <td style=\"padding-left: 1em; padding-right: 1em; text-align: center; vertical-align: top\">Emperor's New Groove, The<br>(2000) ...</td>\n",
       "        <td style=\"padding-left: 1em; padding-right: 1em; text-align: center; vertical-align: top\">0.999964058399</td>\n",
       "        <td style=\"padding-left: 1em; padding-right: 1em; text-align: center; vertical-align: top\">1</td>\n",
       "    </tr>\n",
       "    <tr>\n",
       "        <td style=\"padding-left: 1em; padding-right: 1em; text-align: center; vertical-align: top\">Monsters, Inc. (2001)</td>\n",
       "        <td style=\"padding-left: 1em; padding-right: 1em; text-align: center; vertical-align: top\">Adventures of Rocky and<br>Bullwinkle, The (2000) ...</td>\n",
       "        <td style=\"padding-left: 1em; padding-right: 1em; text-align: center; vertical-align: top\">0.999949753284</td>\n",
       "        <td style=\"padding-left: 1em; padding-right: 1em; text-align: center; vertical-align: top\">2</td>\n",
       "    </tr>\n",
       "    <tr>\n",
       "        <td style=\"padding-left: 1em; padding-right: 1em; text-align: center; vertical-align: top\">Monsters, Inc. (2001)</td>\n",
       "        <td style=\"padding-left: 1em; padding-right: 1em; text-align: center; vertical-align: top\">Toy Story 2 (1999)</td>\n",
       "        <td style=\"padding-left: 1em; padding-right: 1em; text-align: center; vertical-align: top\">0.999853312969</td>\n",
       "        <td style=\"padding-left: 1em; padding-right: 1em; text-align: center; vertical-align: top\">3</td>\n",
       "    </tr>\n",
       "    <tr>\n",
       "        <td style=\"padding-left: 1em; padding-right: 1em; text-align: center; vertical-align: top\">Monsters, Inc. (2001)</td>\n",
       "        <td style=\"padding-left: 1em; padding-right: 1em; text-align: center; vertical-align: top\">Antz (1998)</td>\n",
       "        <td style=\"padding-left: 1em; padding-right: 1em; text-align: center; vertical-align: top\">0.999679744244</td>\n",
       "        <td style=\"padding-left: 1em; padding-right: 1em; text-align: center; vertical-align: top\">4</td>\n",
       "    </tr>\n",
       "    <tr>\n",
       "        <td style=\"padding-left: 1em; padding-right: 1em; text-align: center; vertical-align: top\">Monsters, Inc. (2001)</td>\n",
       "        <td style=\"padding-left: 1em; padding-right: 1em; text-align: center; vertical-align: top\">Toy Story (1995)</td>\n",
       "        <td style=\"padding-left: 1em; padding-right: 1em; text-align: center; vertical-align: top\">0.99880695343</td>\n",
       "        <td style=\"padding-left: 1em; padding-right: 1em; text-align: center; vertical-align: top\">5</td>\n",
       "    </tr>\n",
       "    <tr>\n",
       "        <td style=\"padding-left: 1em; padding-right: 1em; text-align: center; vertical-align: top\">Monsters, Inc. (2001)</td>\n",
       "        <td style=\"padding-left: 1em; padding-right: 1em; text-align: center; vertical-align: top\">Shrek the Third (2007)</td>\n",
       "        <td style=\"padding-left: 1em; padding-right: 1em; text-align: center; vertical-align: top\">0.965220034122</td>\n",
       "        <td style=\"padding-left: 1em; padding-right: 1em; text-align: center; vertical-align: top\">6</td>\n",
       "    </tr>\n",
       "    <tr>\n",
       "        <td style=\"padding-left: 1em; padding-right: 1em; text-align: center; vertical-align: top\">Monsters, Inc. (2001)</td>\n",
       "        <td style=\"padding-left: 1em; padding-right: 1em; text-align: center; vertical-align: top\">Tale of Despereaux, The<br>(2008) ...</td>\n",
       "        <td style=\"padding-left: 1em; padding-right: 1em; text-align: center; vertical-align: top\">0.958766877651</td>\n",
       "        <td style=\"padding-left: 1em; padding-right: 1em; text-align: center; vertical-align: top\">7</td>\n",
       "    </tr>\n",
       "    <tr>\n",
       "        <td style=\"padding-left: 1em; padding-right: 1em; text-align: center; vertical-align: top\">Monsters, Inc. (2001)</td>\n",
       "        <td style=\"padding-left: 1em; padding-right: 1em; text-align: center; vertical-align: top\">Asterix and the Vikings<br>(Astérix et les Vikin ...</td>\n",
       "        <td style=\"padding-left: 1em; padding-right: 1em; text-align: center; vertical-align: top\">0.954672992229</td>\n",
       "        <td style=\"padding-left: 1em; padding-right: 1em; text-align: center; vertical-align: top\">8</td>\n",
       "    </tr>\n",
       "    <tr>\n",
       "        <td style=\"padding-left: 1em; padding-right: 1em; text-align: center; vertical-align: top\">Monsters, Inc. (2001)</td>\n",
       "        <td style=\"padding-left: 1em; padding-right: 1em; text-align: center; vertical-align: top\">Jimmy Neutron: Boy Genius<br>(2001) ...</td>\n",
       "        <td style=\"padding-left: 1em; padding-right: 1em; text-align: center; vertical-align: top\">0.954545140266</td>\n",
       "        <td style=\"padding-left: 1em; padding-right: 1em; text-align: center; vertical-align: top\">9</td>\n",
       "    </tr>\n",
       "    <tr>\n",
       "        <td style=\"padding-left: 1em; padding-right: 1em; text-align: center; vertical-align: top\">Monsters, Inc. (2001)</td>\n",
       "        <td style=\"padding-left: 1em; padding-right: 1em; text-align: center; vertical-align: top\">Atlantis: The Lost Empire<br>(2001) ...</td>\n",
       "        <td style=\"padding-left: 1em; padding-right: 1em; text-align: center; vertical-align: top\">0.954538047314</td>\n",
       "        <td style=\"padding-left: 1em; padding-right: 1em; text-align: center; vertical-align: top\">10</td>\n",
       "    </tr>\n",
       "</table>\n",
       "[10 rows x 4 columns]<br/>\n",
       "</div>"
      ],
      "text/plain": [
       "Columns:\n",
       "\ttitle\tstr\n",
       "\tsimilar\tstr\n",
       "\tscore\tfloat\n",
       "\trank\tint\n",
       "\n",
       "Rows: 10\n",
       "\n",
       "Data:\n",
       "+-----------------------+--------------------------------+----------------+------+\n",
       "|         title         |            similar             |     score      | rank |\n",
       "+-----------------------+--------------------------------+----------------+------+\n",
       "| Monsters, Inc. (2001) | Emperor's New Groove, The ...  | 0.999964058399 |  1   |\n",
       "| Monsters, Inc. (2001) | Adventures of Rocky and Bu...  | 0.999949753284 |  2   |\n",
       "| Monsters, Inc. (2001) |       Toy Story 2 (1999)       | 0.999853312969 |  3   |\n",
       "| Monsters, Inc. (2001) |          Antz (1998)           | 0.999679744244 |  4   |\n",
       "| Monsters, Inc. (2001) |        Toy Story (1995)        | 0.99880695343  |  5   |\n",
       "| Monsters, Inc. (2001) |     Shrek the Third (2007)     | 0.965220034122 |  6   |\n",
       "| Monsters, Inc. (2001) | Tale of Despereaux, The (2008) | 0.958766877651 |  7   |\n",
       "| Monsters, Inc. (2001) | Asterix and the Vikings (A...  | 0.954672992229 |  8   |\n",
       "| Monsters, Inc. (2001) | Jimmy Neutron: Boy Genius ...  | 0.954545140266 |  9   |\n",
       "| Monsters, Inc. (2001) | Atlantis: The Lost Empire ...  | 0.954538047314 |  10  |\n",
       "+-----------------------+--------------------------------+----------------+------+\n",
       "[10 rows x 4 columns]"
      ]
     },
     "execution_count": 30,
     "metadata": {},
     "output_type": "execute_result"
    }
   ],
   "source": [
    "content_based.get_similar_items([\"Monsters, Inc. (2001)\"])"
   ]
  },
  {
   "cell_type": "code",
   "execution_count": 31,
   "metadata": {
    "collapsed": false
   },
   "outputs": [
    {
     "data": {
      "text/html": [
       "<div style=\"max-height:1000px;max-width:1500px;overflow:auto;\"><table frame=\"box\" rules=\"cols\">\n",
       "    <tr>\n",
       "        <th style=\"padding-left: 1em; padding-right: 1em; text-align: center\">title</th>\n",
       "        <th style=\"padding-left: 1em; padding-right: 1em; text-align: center\">similar</th>\n",
       "        <th style=\"padding-left: 1em; padding-right: 1em; text-align: center\">score</th>\n",
       "        <th style=\"padding-left: 1em; padding-right: 1em; text-align: center\">rank</th>\n",
       "    </tr>\n",
       "    <tr>\n",
       "        <td style=\"padding-left: 1em; padding-right: 1em; text-align: center; vertical-align: top\">Sharknado 4: The 4th<br>Awakens (2016) ...</td>\n",
       "        <td style=\"padding-left: 1em; padding-right: 1em; text-align: center; vertical-align: top\">The Purge: Election Year<br>(2016) ...</td>\n",
       "        <td style=\"padding-left: 1em; padding-right: 1em; text-align: center; vertical-align: top\">0.954495429993</td>\n",
       "        <td style=\"padding-left: 1em; padding-right: 1em; text-align: center; vertical-align: top\">1</td>\n",
       "    </tr>\n",
       "    <tr>\n",
       "        <td style=\"padding-left: 1em; padding-right: 1em; text-align: center; vertical-align: top\">Sharknado 4: The 4th<br>Awakens (2016) ...</td>\n",
       "        <td style=\"padding-left: 1em; padding-right: 1em; text-align: center; vertical-align: top\">Kill Command (2016)</td>\n",
       "        <td style=\"padding-left: 1em; padding-right: 1em; text-align: center; vertical-align: top\">0.954306304455</td>\n",
       "        <td style=\"padding-left: 1em; padding-right: 1em; text-align: center; vertical-align: top\">2</td>\n",
       "    </tr>\n",
       "    <tr>\n",
       "        <td style=\"padding-left: 1em; padding-right: 1em; text-align: center; vertical-align: top\">Sharknado 4: The 4th<br>Awakens (2016) ...</td>\n",
       "        <td style=\"padding-left: 1em; padding-right: 1em; text-align: center; vertical-align: top\">Aliens (1986)</td>\n",
       "        <td style=\"padding-left: 1em; padding-right: 1em; text-align: center; vertical-align: top\">0.94270324707</td>\n",
       "        <td style=\"padding-left: 1em; padding-right: 1em; text-align: center; vertical-align: top\">3</td>\n",
       "    </tr>\n",
       "    <tr>\n",
       "        <td style=\"padding-left: 1em; padding-right: 1em; text-align: center; vertical-align: top\">Sharknado 4: The 4th<br>Awakens (2016) ...</td>\n",
       "        <td style=\"padding-left: 1em; padding-right: 1em; text-align: center; vertical-align: top\">Robot Overlords (2014)</td>\n",
       "        <td style=\"padding-left: 1em; padding-right: 1em; text-align: center; vertical-align: top\">0.940134048462</td>\n",
       "        <td style=\"padding-left: 1em; padding-right: 1em; text-align: center; vertical-align: top\">4</td>\n",
       "    </tr>\n",
       "    <tr>\n",
       "        <td style=\"padding-left: 1em; padding-right: 1em; text-align: center; vertical-align: top\">Sharknado 4: The 4th<br>Awakens (2016) ...</td>\n",
       "        <td style=\"padding-left: 1em; padding-right: 1em; text-align: center; vertical-align: top\">Star Trek 3 (2016)</td>\n",
       "        <td style=\"padding-left: 1em; padding-right: 1em; text-align: center; vertical-align: top\">0.939032316208</td>\n",
       "        <td style=\"padding-left: 1em; padding-right: 1em; text-align: center; vertical-align: top\">5</td>\n",
       "    </tr>\n",
       "    <tr>\n",
       "        <td style=\"padding-left: 1em; padding-right: 1em; text-align: center; vertical-align: top\">Sharknado 4: The 4th<br>Awakens (2016) ...</td>\n",
       "        <td style=\"padding-left: 1em; padding-right: 1em; text-align: center; vertical-align: top\">Independence Day:<br>Resurgence (2016) ...</td>\n",
       "        <td style=\"padding-left: 1em; padding-right: 1em; text-align: center; vertical-align: top\">0.939030408859</td>\n",
       "        <td style=\"padding-left: 1em; padding-right: 1em; text-align: center; vertical-align: top\">6</td>\n",
       "    </tr>\n",
       "    <tr>\n",
       "        <td style=\"padding-left: 1em; padding-right: 1em; text-align: center; vertical-align: top\">Sharknado 4: The 4th<br>Awakens (2016) ...</td>\n",
       "        <td style=\"padding-left: 1em; padding-right: 1em; text-align: center; vertical-align: top\">Ant-Man (2015)</td>\n",
       "        <td style=\"padding-left: 1em; padding-right: 1em; text-align: center; vertical-align: top\">0.927273094654</td>\n",
       "        <td style=\"padding-left: 1em; padding-right: 1em; text-align: center; vertical-align: top\">7</td>\n",
       "    </tr>\n",
       "    <tr>\n",
       "        <td style=\"padding-left: 1em; padding-right: 1em; text-align: center; vertical-align: top\">Sharknado 4: The 4th<br>Awakens (2016) ...</td>\n",
       "        <td style=\"padding-left: 1em; padding-right: 1em; text-align: center; vertical-align: top\">Avengers: Age of Ultron<br>(2015) ...</td>\n",
       "        <td style=\"padding-left: 1em; padding-right: 1em; text-align: center; vertical-align: top\">0.92726624012</td>\n",
       "        <td style=\"padding-left: 1em; padding-right: 1em; text-align: center; vertical-align: top\">8</td>\n",
       "    </tr>\n",
       "    <tr>\n",
       "        <td style=\"padding-left: 1em; padding-right: 1em; text-align: center; vertical-align: top\">Sharknado 4: The 4th<br>Awakens (2016) ...</td>\n",
       "        <td style=\"padding-left: 1em; padding-right: 1em; text-align: center; vertical-align: top\">Jupiter Ascending (2015)</td>\n",
       "        <td style=\"padding-left: 1em; padding-right: 1em; text-align: center; vertical-align: top\">0.920077085495</td>\n",
       "        <td style=\"padding-left: 1em; padding-right: 1em; text-align: center; vertical-align: top\">9</td>\n",
       "    </tr>\n",
       "    <tr>\n",
       "        <td style=\"padding-left: 1em; padding-right: 1em; text-align: center; vertical-align: top\">Sharknado 4: The 4th<br>Awakens (2016) ...</td>\n",
       "        <td style=\"padding-left: 1em; padding-right: 1em; text-align: center; vertical-align: top\">Guardians of the Galaxy<br>(2014) ...</td>\n",
       "        <td style=\"padding-left: 1em; padding-right: 1em; text-align: center; vertical-align: top\">0.919717550278</td>\n",
       "        <td style=\"padding-left: 1em; padding-right: 1em; text-align: center; vertical-align: top\">10</td>\n",
       "    </tr>\n",
       "</table>\n",
       "[10 rows x 4 columns]<br/>\n",
       "</div>"
      ],
      "text/plain": [
       "Columns:\n",
       "\ttitle\tstr\n",
       "\tsimilar\tstr\n",
       "\tscore\tfloat\n",
       "\trank\tint\n",
       "\n",
       "Rows: 10\n",
       "\n",
       "Data:\n",
       "+-------------------------------+--------------------------------+\n",
       "|             title             |            similar             |\n",
       "+-------------------------------+--------------------------------+\n",
       "| Sharknado 4: The 4th Awake... | The Purge: Election Year (...  |\n",
       "| Sharknado 4: The 4th Awake... |      Kill Command (2016)       |\n",
       "| Sharknado 4: The 4th Awake... |         Aliens (1986)          |\n",
       "| Sharknado 4: The 4th Awake... |     Robot Overlords (2014)     |\n",
       "| Sharknado 4: The 4th Awake... |       Star Trek 3 (2016)       |\n",
       "| Sharknado 4: The 4th Awake... | Independence Day: Resurgen...  |\n",
       "| Sharknado 4: The 4th Awake... |         Ant-Man (2015)         |\n",
       "| Sharknado 4: The 4th Awake... | Avengers: Age of Ultron (2015) |\n",
       "| Sharknado 4: The 4th Awake... |    Jupiter Ascending (2015)    |\n",
       "| Sharknado 4: The 4th Awake... | Guardians of the Galaxy (2014) |\n",
       "+-------------------------------+--------------------------------+\n",
       "+----------------+------+\n",
       "|     score      | rank |\n",
       "+----------------+------+\n",
       "| 0.954495429993 |  1   |\n",
       "| 0.954306304455 |  2   |\n",
       "| 0.94270324707  |  3   |\n",
       "| 0.940134048462 |  4   |\n",
       "| 0.939032316208 |  5   |\n",
       "| 0.939030408859 |  6   |\n",
       "| 0.927273094654 |  7   |\n",
       "| 0.92726624012  |  8   |\n",
       "| 0.920077085495 |  9   |\n",
       "| 0.919717550278 |  10  |\n",
       "+----------------+------+\n",
       "[10 rows x 4 columns]"
      ]
     },
     "execution_count": 31,
     "metadata": {},
     "output_type": "execute_result"
    }
   ],
   "source": [
    "content_based.get_similar_items([\"Sharknado 4: The 4th Awakens (2016)\"])"
   ]
  },
  {
   "cell_type": "markdown",
   "metadata": {},
   "source": [
    "###### We can see that above recommendations are quite accurate. In this algorithm we are getting recommendations according to movie title\n"
   ]
  },
  {
   "cell_type": "code",
   "execution_count": null,
   "metadata": {
    "collapsed": true
   },
   "outputs": [],
   "source": []
  }
 ],
 "metadata": {
  "kernelspec": {
   "display_name": "Python 2",
   "language": "python",
   "name": "python2"
  },
  "language_info": {
   "codemirror_mode": {
    "name": "ipython",
    "version": 2
   },
   "file_extension": ".py",
   "mimetype": "text/x-python",
   "name": "python",
   "nbconvert_exporter": "python",
   "pygments_lexer": "ipython2",
   "version": "2.7.11"
  }
 },
 "nbformat": 4,
 "nbformat_minor": 0
}
